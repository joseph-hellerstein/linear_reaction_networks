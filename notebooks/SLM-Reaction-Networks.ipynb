{
 "cells": [
  {
   "cell_type": "markdown",
   "metadata": {
    "id": "n73Eh5JAZBfP"
   },
   "source": [
    "# SISO LINEAR MODULAR (SLM) REACTION NETWORKS"
   ]
  },
  {
   "cell_type": "markdown",
   "metadata": {},
   "source": [
    "This notebook contains numerical studies to check the derivation of transfer functions for compositions\n",
    "of SLM reaction networks."
   ]
  },
  {
   "cell_type": "code",
   "execution_count": 1,
   "metadata": {},
   "outputs": [],
   "source": [
    "import sys\n",
    "sys.path.insert(0, \"/Users/jlheller/home/Technical/repos/controlSBML/src\")"
   ]
  },
  {
   "cell_type": "code",
   "execution_count": 2,
   "metadata": {},
   "outputs": [],
   "source": [
    "import lrn_builder.slm_network\n",
    "from lrn_builder.named_transfer_function import NamedTransferFunction"
   ]
  },
  {
   "cell_type": "code",
   "execution_count": 3,
   "metadata": {
    "id": "tWS_uO_5ZFM_"
   },
   "outputs": [],
   "source": [
    "import numpy as np\n",
    "import pandas as pd\n",
    "import tellurium as te\n",
    "import matplotlib.pyplot as plt\n",
    "import sympy as sp\n",
    "import control\n",
    "from lrn_builder.slm_network import SLMNetwork"
   ]
  },
  {
   "cell_type": "markdown",
   "metadata": {},
   "source": [
    "# Helpers "
   ]
  },
  {
   "cell_type": "code",
   "execution_count": 4,
   "metadata": {},
   "outputs": [],
   "source": [
    "s = control.TransferFunction.s\n",
    "TIMES = np.linspace(0, 10, 100)"
   ]
  },
  {
   "cell_type": "code",
   "execution_count": 5,
   "metadata": {},
   "outputs": [
    {
     "data": {
      "text/plain": [
       "\n",
       "        model <<model_name>>()\n",
       "        SI -> SO; kIO*SI\n",
       "        SO -> ; kO*SO\n",
       "        kIO = 1.000000\n",
       "        kO = 1.000000\n",
       "        SI = 0\n",
       "        SO = 0\n",
       "        end\n",
       "        "
      ]
     },
     "execution_count": 5,
     "metadata": {},
     "output_type": "execute_result"
    }
   ],
   "source": [
    "SLM_A = SLMNetwork.makeTwoSpeciesNetwork(1, 1)\n",
    "SLM_A.template"
   ]
  },
  {
   "cell_type": "code",
   "execution_count": 6,
   "metadata": {},
   "outputs": [
    {
     "data": {
      "text/plain": [
       "\n",
       "        model <<model_name>>()\n",
       "        SI -> SO; kIO*SI\n",
       "        SO -> ; kO*SO\n",
       "        kIO = 2.000000\n",
       "        kO = 2.000000\n",
       "        SI = 0\n",
       "        SO = 0\n",
       "        end\n",
       "        "
      ]
     },
     "execution_count": 6,
     "metadata": {},
     "output_type": "execute_result"
    }
   ],
   "source": [
    "SLM_B = SLMNetwork.makeTwoSpeciesNetwork(2, 2)\n",
    "SLM_B.template"
   ]
  },
  {
   "cell_type": "code",
   "execution_count": 7,
   "metadata": {},
   "outputs": [],
   "source": [
    "TEST_MODEL = \"\"\"\n",
    "model *main()\n",
    "$SI -> SO; TEST_KIO*SI\n",
    "SO ->; TEST_KO*SO\n",
    "\n",
    "SI = 0\n",
    "TEST_KIO = 2\n",
    "TEST_KO = 1\n",
    "end\n",
    "\"\"\""
   ]
  },
  {
   "cell_type": "code",
   "execution_count": 8,
   "metadata": {},
   "outputs": [],
   "source": [
    "TEST_KIO = 2\n",
    "TEST_KO = 1\n",
    "TEST_TF = control.TransferFunction([TEST_KIO], [1, TEST_KO])"
   ]
  },
  {
   "cell_type": "code",
   "execution_count": 9,
   "metadata": {
    "id": "rxtGmMOUinRc"
   },
   "outputs": [
    {
     "name": "stdout",
     "output_type": "stream",
     "text": [
      "OK!\n"
     ]
    }
   ],
   "source": [
    "def plotStep(model=None, tf=None, title=\"\", figsize=(8, 8), is_plot=True, **kwargs):\n",
    "    \"\"\"\n",
    "    Assumes that input is SI and output is SO\n",
    "\n",
    "    Args:\n",
    "\n",
    "    Returns:\n",
    "        np.array (data from simulation)\n",
    "        np.array (predictions)\n",
    "    \"\"\"\n",
    "    if \"SI\" in kwargs.keys():\n",
    "        SI = kwargs[\"SI\"]\n",
    "    else:\n",
    "        raise ValueError(\"Must specify input SI\")\n",
    "    #\n",
    "    _, ax = plt.subplots(1, figsize=figsize)\n",
    "    if model is not None:\n",
    "        rr = te.loada(model)\n",
    "        for key, value in kwargs.items():\n",
    "            rr[key] = value\n",
    "        selections = [\"time\", \"SO\"]\n",
    "        data = rr.simulate(selections=selections)\n",
    "    else:\n",
    "        data = None\n",
    "    if data is None:\n",
    "            times = np.linspace(0, 5, 50)\n",
    "    else:\n",
    "        times = data[\"time\"]\n",
    "    if tf is not None:\n",
    "        times, predictions = control.step_response(tf, T=times)\n",
    "        predictions = SI*predictions\n",
    "    else:\n",
    "        predictions = None\n",
    "    if (tf is not None) and (model is not None):\n",
    "        ax.scatter(data[:, 1], predictions, color=\"red\", marker=\"*\")\n",
    "        ax.set_xlabel(\"simulated\")\n",
    "        ax.set_ylabel(\"predicted\")\n",
    "        max_simulated = np.max(data[:, 1])\n",
    "        max_predictions = np.max(predictions)\n",
    "        max_value = max(max_simulated, max_predictions)\n",
    "        ax.plot([0, max_value], [0, max_value], linestyle=\"--\")\n",
    "    else:\n",
    "        if data is not None:\n",
    "            ax.scatter(times, data[:, 1], marker=\"o\")\n",
    "            ax.set_xlabel(\"time\")\n",
    "            ax.set_ylabel(\"simulations\")\n",
    "        elif predictions is not None:\n",
    "            ax.scatter(times, predictions, marker=\"o\")\n",
    "            ax.set_xlabel(\"time\")\n",
    "            ax.set_ylabel(\"predictions\")\n",
    "    ax.set_title(title)\n",
    "    if not is_plot:\n",
    "        plt.close()\n",
    "    return data, predictions\n",
    "\n",
    "# Tests\n",
    "is_plot = False\n",
    "data, _ = plotStep(model=TEST_MODEL, SI=5, TEST_KIO=TEST_KIO, TEST_KO=TEST_KO, title=\"test\", figsize=(3,3), is_plot=is_plot)\n",
    "assert(data[-1, 1] > 0)\n",
    "_ = plotStep(SI=5, tf=TEST_TF, TEST_K12=TEST_KIO, TEST_K2=TEST_KO, title=\"test\", figsize=(3,3), is_plot=is_plot)\n",
    "_ = plotStep(model=TEST_MODEL, SI=5, tf=TEST_TF, TEST_KIO=TEST_KIO, TEST_KO=TEST_KO, title=\"test\", figsize=(3,3), is_plot=is_plot)\n",
    "print(\"OK!\")"
   ]
  },
  {
   "cell_type": "markdown",
   "metadata": {},
   "source": [
    "# SLM Networks"
   ]
  },
  {
   "cell_type": "markdown",
   "metadata": {},
   "source": [
    "## Sequential"
   ]
  },
  {
   "cell_type": "code",
   "execution_count": 10,
   "metadata": {},
   "outputs": [
    {
     "data": {
      "image/png": "[encoded data removed]",
      "text/plain": [
       "<Figure size 600x400 with 1 Axes>"
      ]
     },
     "metadata": {},
     "output_type": "display_data"
    }
   ],
   "source": [
    "MODEL_SEQ = \"\"\"\n",
    "S1 -> S2; k1*S1\n",
    "S2 -> ; k2*S2\n",
    "S2 -> S3; k3*S2\n",
    "S3 -> ; k4*S3\n",
    "\n",
    "k1 = 1\n",
    "k2 = 2\n",
    "k3 = 3\n",
    "k4 = 4\n",
    "$S1 = 10\n",
    "\n",
    "\"\"\"\n",
    "rr = te.loada(MODEL_SEQ)\n",
    "rr.simulate()\n",
    "rr.plot(xlabel=\"time\", title=\"Module A Only\")"
   ]
  },
  {
   "cell_type": "code",
   "execution_count": 11,
   "metadata": {},
   "outputs": [
    {
     "data": {
      "image/png": "[encoded data removed]",
      "text/plain": [
       "<Figure size 600x400 with 1 Axes>"
      ]
     },
     "metadata": {},
     "output_type": "display_data"
    }
   ],
   "source": [
    "MODEL_SEQ = \"\"\"\n",
    "S1 -> S2; k1*S1\n",
    "S2 -> ; k2*S2\n",
    "S2 -> S3; k3*S2\n",
    "S3 -> ; k4*S3\n",
    "\n",
    "S3 -> S2p; k1p*S3\n",
    "S2p ->; k2p*S2p\n",
    "S2p ->S3p; k3p*S2p\n",
    "S3p -> ; k4p*S3p\n",
    "\n",
    "k1 = 1\n",
    "k2 = 2\n",
    "k3 = 3\n",
    "k4 = 4\n",
    "k1p = 1\n",
    "k2p = 2\n",
    "k3p = 3\n",
    "k4p = 4\n",
    "$S1 = 10\n",
    "\n",
    "\"\"\"\n",
    "rr = te.loada(MODEL_SEQ)\n",
    "rr.simulate()\n",
    "rr.plot(xlabel=\"time\", title=\"Module A + B\")"
   ]
  },
  {
   "cell_type": "markdown",
   "metadata": {},
   "source": [
    "## Linear Repressilator"
   ]
  },
  {
   "cell_type": "code",
   "execution_count": 12,
   "metadata": {},
   "outputs": [
    {
     "data": {
      "image/png": "[encoded data removed]",
      "text/plain": [
       "<Figure size 600x400 with 1 Axes>"
      ]
     },
     "metadata": {},
     "output_type": "display_data"
    }
   ],
   "source": [
    "model_lr = \"\"\"\n",
    "$SI -> S1; k1s*SI\n",
    "$SI -> S2; k2s*SI\n",
    "$SI -> S3; k3s*SI\n",
    "S1 -> ; k1d*S3\n",
    "S2 -> ; k2d*S1\n",
    "S3 -> ; k3d*S2\n",
    "S1 -> SO; k1O*S1\n",
    "S2 -> SO; k2O*S2\n",
    "S3 -> SO; k3O*S3\n",
    "SO -> ; k5*SO\n",
    "k1s = .1\n",
    "k2s = .1\n",
    "k2s = .1\n",
    "k3s = .1\n",
    "k1d = 1\n",
    "k2d = 1\n",
    "k3d = 1\n",
    "k1O = 1\n",
    "k2O = 1\n",
    "k3O = 1\n",
    "k5 = 0.1\n",
    "SI = 1\n",
    "S1 = 10\n",
    "S2 = 0\n",
    "S3 = 0\n",
    "SO = 0\n",
    "\"\"\"\n",
    "rr = te.loada(model_lr)\n",
    "rr.simulate(0, 30, 300)\n",
    "rr.plot()"
   ]
  },
  {
   "cell_type": "markdown",
   "metadata": {},
   "source": [
    "**Issues**\n",
    "1. Negative concentrations"
   ]
  },
  {
   "cell_type": "markdown",
   "metadata": {},
   "source": [
    "# Operations on Networks"
   ]
  },
  {
   "cell_type": "markdown",
   "metadata": {},
   "source": [
    "## Scale"
   ]
  },
  {
   "cell_type": "code",
   "execution_count": 13,
   "metadata": {},
   "outputs": [
    {
     "ename": "ValueError",
     "evalue": "Invalid keyword arguments: {'input_names', 'output_names'}",
     "output_type": "error",
     "traceback": [
      "\u001b[0;31m---------------------------------------------------------------------------\u001b[0m",
      "\u001b[0;31mValueError\u001b[0m                                Traceback (most recent call last)",
      "Cell \u001b[0;32mIn[13], line 3\u001b[0m\n\u001b[1;32m      1\u001b[0m slm \u001b[38;5;241m=\u001b[39m SLM_A\u001b[38;5;241m.\u001b[39mcopy()\n\u001b[1;32m      2\u001b[0m slm_scale \u001b[38;5;241m=\u001b[39m slm\u001b[38;5;241m.\u001b[39mscale(m\u001b[38;5;241m=\u001b[39m\u001b[38;5;241m5\u001b[39m)\n\u001b[0;32m----> 3\u001b[0m _ \u001b[38;5;241m=\u001b[39m \u001b[43mslm_scale\u001b[49m\u001b[38;5;241;43m.\u001b[39;49m\u001b[43misValid\u001b[49m\u001b[43m(\u001b[49m\u001b[43mis_plot\u001b[49m\u001b[38;5;241;43m=\u001b[39;49m\u001b[38;5;28;43;01mTrue\u001b[39;49;00m\u001b[43m,\u001b[49m\u001b[43m \u001b[49m\u001b[43mfigsize\u001b[49m\u001b[38;5;241;43m=\u001b[39;49m\u001b[43m(\u001b[49m\u001b[38;5;241;43m3\u001b[39;49m\u001b[43m,\u001b[49m\u001b[38;5;241;43m3\u001b[39;49m\u001b[43m)\u001b[49m\u001b[43m)\u001b[49m\n\u001b[1;32m      4\u001b[0m \u001b[38;5;28mprint\u001b[39m(slm_scale\u001b[38;5;241m.\u001b[39mgetAntimony())\n",
      "File \u001b[0;32m~/home/Technical/repos/linear_reaction_networks/src/lrn_builder/slm_network.py:198\u001b[0m, in \u001b[0;36mSLMNetwork.isValid\u001b[0;34m(self, score_threshold, fractional_deviation, **kwargs)\u001b[0m\n\u001b[1;32m    188\u001b[0m \u001b[38;5;250m\u001b[39m\u001b[38;5;124;03m\"\"\"\u001b[39;00m\n\u001b[1;32m    189\u001b[0m \u001b[38;5;124;03mCompares the transfer function output to the simulation output for a staircase input.\u001b[39;00m\n\u001b[1;32m    190\u001b[0m \u001b[38;5;124;03mArgs:\u001b[39;00m\n\u001b[0;32m   (...)\u001b[0m\n\u001b[1;32m    195\u001b[0m \u001b[38;5;124;03m    bool: True if the network is valid\u001b[39;00m\n\u001b[1;32m    196\u001b[0m \u001b[38;5;124;03m\"\"\"\u001b[39;00m\n\u001b[1;32m    197\u001b[0m new_kwargs \u001b[38;5;241m=\u001b[39m \u001b[38;5;28mself\u001b[39m\u001b[38;5;241m.\u001b[39m_setTimes(kwargs)\n\u001b[0;32m--> 198\u001b[0m antimony_model \u001b[38;5;241m=\u001b[39m \u001b[38;5;28mstr\u001b[39m(\u001b[38;5;28;43mself\u001b[39;49m\u001b[38;5;241;43m.\u001b[39;49m\u001b[43mgetStaircaseAntimony\u001b[49m\u001b[43m(\u001b[49m\u001b[38;5;241;43m*\u001b[39;49m\u001b[38;5;241;43m*\u001b[39;49m\u001b[43mnew_kwargs\u001b[49m\u001b[43m)\u001b[49m)\n\u001b[1;32m    199\u001b[0m score \u001b[38;5;241m=\u001b[39m \u001b[38;5;28mself\u001b[39m\u001b[38;5;241m.\u001b[39mnamed_transfer_function\u001b[38;5;241m.\u001b[39mscore(antimony_model, fractional_deviation\u001b[38;5;241m=\u001b[39mfractional_deviation, \u001b[38;5;241m*\u001b[39m\u001b[38;5;241m*\u001b[39mnew_kwargs)\n\u001b[1;32m    200\u001b[0m \u001b[38;5;28;01mreturn\u001b[39;00m score \u001b[38;5;241m>\u001b[39m\u001b[38;5;241m=\u001b[39m score_threshold\n",
      "File \u001b[0;32m~/home/Technical/repos/linear_reaction_networks/src/lrn_builder/slm_network.py:240\u001b[0m, in \u001b[0;36mSLMNetwork.getStaircaseAntimony\u001b[0;34m(self, **kwargs)\u001b[0m\n\u001b[1;32m    238\u001b[0m new_kwargs \u001b[38;5;241m=\u001b[39m \u001b[38;5;28mself\u001b[39m\u001b[38;5;241m.\u001b[39m_setTimes(kwargs)\n\u001b[1;32m    239\u001b[0m new_kwargs[IS_PLOT] \u001b[38;5;241m=\u001b[39m \u001b[38;5;28;01mFalse\u001b[39;00m\n\u001b[0;32m--> 240\u001b[0m _, builder \u001b[38;5;241m=\u001b[39m \u001b[38;5;28;43mself\u001b[39;49m\u001b[38;5;241;43m.\u001b[39;49m\u001b[43mplotStaircaseResponse\u001b[49m\u001b[43m(\u001b[49m\u001b[38;5;241;43m*\u001b[39;49m\u001b[38;5;241;43m*\u001b[39;49m\u001b[43mnew_kwargs\u001b[49m\u001b[43m)\u001b[49m\n\u001b[1;32m    241\u001b[0m \u001b[38;5;28;01mreturn\u001b[39;00m builder\n",
      "File \u001b[0;32m~/home/Technical/repos/linear_reaction_networks/src/lrn_builder/slm_network.py:181\u001b[0m, in \u001b[0;36mSLMNetwork.plotStaircaseResponse\u001b[0;34m(self, initial_value, final_value, num_step, **kwargs)\u001b[0m\n\u001b[1;32m    179\u001b[0m new_kwargs \u001b[38;5;241m=\u001b[39m \u001b[38;5;28mself\u001b[39m\u001b[38;5;241m.\u001b[39m_setTimes(kwargs)\n\u001b[1;32m    180\u001b[0m \u001b[38;5;66;03m#\u001b[39;00m\n\u001b[0;32m--> 181\u001b[0m ctlsb \u001b[38;5;241m=\u001b[39m \u001b[43mctl\u001b[49m\u001b[38;5;241;43m.\u001b[39;49m\u001b[43mControlSBML\u001b[49m\u001b[43m(\u001b[49m\u001b[38;5;28;43mself\u001b[39;49m\u001b[38;5;241;43m.\u001b[39;49m\u001b[43mgetAntimony\u001b[49m\u001b[43m(\u001b[49m\u001b[43m)\u001b[49m\u001b[43m,\u001b[49m\u001b[43m \u001b[49m\u001b[43minput_names\u001b[49m\u001b[38;5;241;43m=\u001b[39;49m\u001b[43m[\u001b[49m\u001b[38;5;28;43mself\u001b[39;49m\u001b[38;5;241;43m.\u001b[39;49m\u001b[43minput_name\u001b[49m\u001b[43m]\u001b[49m\u001b[43m,\u001b[49m\u001b[43m \u001b[49m\u001b[43moutput_names\u001b[49m\u001b[38;5;241;43m=\u001b[39;49m\u001b[43m[\u001b[49m\u001b[38;5;28;43mself\u001b[39;49m\u001b[38;5;241;43m.\u001b[39;49m\u001b[43moutput_name\u001b[49m\u001b[43m]\u001b[49m\u001b[43m,\u001b[49m\n\u001b[1;32m    182\u001b[0m \u001b[43m                        \u001b[49m\u001b[43mis_fixed_input_species\u001b[49m\u001b[38;5;241;43m=\u001b[39;49m\u001b[38;5;28;43;01mTrue\u001b[39;49;00m\u001b[43m)\u001b[49m\n\u001b[1;32m    183\u001b[0m result \u001b[38;5;241m=\u001b[39m ctlsb\u001b[38;5;241m.\u001b[39mplotStaircaseResponse(initial_value\u001b[38;5;241m=\u001b[39minitial_value, final_value\u001b[38;5;241m=\u001b[39mfinal_value, num_step\u001b[38;5;241m=\u001b[39mnum_step,\n\u001b[1;32m    184\u001b[0m                                      \u001b[38;5;241m*\u001b[39m\u001b[38;5;241m*\u001b[39mnew_kwargs)\n\u001b[1;32m    185\u001b[0m \u001b[38;5;28;01mreturn\u001b[39;00m result\n",
      "File \u001b[0;32m~/home/Technical/repos/controlSBML/src/controlSBML/control_sbml.py:216\u001b[0m, in \u001b[0;36mControlSBML.__init__\u001b[0;34m(self, model_reference, roadrunner, input_name, output_name, is_fixed_input_species, is_steady_state, noise_spec, disturbance_spec, fitter_method, setpoint, sign, times, **kwargs)\u001b[0m\n\u001b[1;32m    149\u001b[0m \u001b[38;5;28;01mdef\u001b[39;00m \u001b[38;5;21m__init__\u001b[39m(\u001b[38;5;28mself\u001b[39m, model_reference:\u001b[38;5;28mstr\u001b[39m, \n\u001b[1;32m    150\u001b[0m              roadrunner\u001b[38;5;241m=\u001b[39m\u001b[38;5;28;01mNone\u001b[39;00m,\n\u001b[1;32m    151\u001b[0m              input_name:Optional[\u001b[38;5;28mstr\u001b[39m]\u001b[38;5;241m=\u001b[39m\u001b[38;5;28;01mNone\u001b[39;00m,\n\u001b[0;32m   (...)\u001b[0m\n\u001b[1;32m    160\u001b[0m              times:Optional[np\u001b[38;5;241m.\u001b[39mndarray]\u001b[38;5;241m=\u001b[39m\u001b[38;5;28;01mNone\u001b[39;00m,\n\u001b[1;32m    161\u001b[0m              \u001b[38;5;241m*\u001b[39m\u001b[38;5;241m*\u001b[39mkwargs):\n\u001b[1;32m    162\u001b[0m \u001b[38;5;250m    \u001b[39m\u001b[38;5;124;03m\"\"\"\u001b[39;00m\n\u001b[1;32m    163\u001b[0m \u001b[38;5;124;03m    model_reference: str\u001b[39;00m\n\u001b[1;32m    164\u001b[0m \u001b[38;5;124;03m        string, SBML file or Roadrunner object\u001b[39;00m\n\u001b[0;32m   (...)\u001b[0m\n\u001b[1;32m    214\u001b[0m \n\u001b[1;32m    215\u001b[0m \u001b[38;5;124;03m    \"\"\"\u001b[39;00m\n\u001b[0;32m--> 216\u001b[0m     \u001b[38;5;28;43mself\u001b[39;49m\u001b[38;5;241;43m.\u001b[39;49m\u001b[43m_checkKwargs\u001b[49m\u001b[43m(\u001b[49m\u001b[43mOPTION_KEYS\u001b[49m\u001b[43m,\u001b[49m\u001b[43m \u001b[49m\u001b[38;5;241;43m*\u001b[39;49m\u001b[38;5;241;43m*\u001b[39;49m\u001b[43mkwargs\u001b[49m\u001b[43m)\u001b[49m\n\u001b[1;32m    217\u001b[0m     \u001b[38;5;66;03m# Set initial values of all options\u001b[39;00m\n\u001b[1;32m    218\u001b[0m     \u001b[38;5;28;01mfor\u001b[39;00m key, value \u001b[38;5;129;01min\u001b[39;00m OPTION_DCT\u001b[38;5;241m.\u001b[39mitems():  \u001b[38;5;66;03m# type: ignore\u001b[39;00m\n",
      "File \u001b[0;32m~/home/Technical/repos/controlSBML/src/controlSBML/control_sbml.py:270\u001b[0m, in \u001b[0;36mControlSBML._checkKwargs\u001b[0;34m(self, valids, invalids, **kwargs)\u001b[0m\n\u001b[1;32m    268\u001b[0m not_valids \u001b[38;5;241m=\u001b[39m keys\u001b[38;5;241m.\u001b[39mdifference(\u001b[38;5;28mset\u001b[39m(valids))   \u001b[38;5;66;03m# type: ignore\u001b[39;00m\n\u001b[1;32m    269\u001b[0m \u001b[38;5;28;01mif\u001b[39;00m \u001b[38;5;28mlen\u001b[39m(not_valids) \u001b[38;5;241m>\u001b[39m \u001b[38;5;241m0\u001b[39m:\n\u001b[0;32m--> 270\u001b[0m     \u001b[38;5;28;01mraise\u001b[39;00m \u001b[38;5;167;01mValueError\u001b[39;00m(\u001b[38;5;124m\"\u001b[39m\u001b[38;5;124mInvalid keyword arguments: \u001b[39m\u001b[38;5;132;01m%s\u001b[39;00m\u001b[38;5;124m\"\u001b[39m \u001b[38;5;241m%\u001b[39m \u001b[38;5;28mstr\u001b[39m(not_valids))\n\u001b[1;32m    271\u001b[0m \u001b[38;5;28;01mif\u001b[39;00m invalids \u001b[38;5;129;01mis\u001b[39;00m \u001b[38;5;28;01mNone\u001b[39;00m:\n\u001b[1;32m    272\u001b[0m     \u001b[38;5;28;01mreturn\u001b[39;00m\n",
      "\u001b[0;31mValueError\u001b[0m: Invalid keyword arguments: {'input_names', 'output_names'}"
     ]
    }
   ],
   "source": [
    "slm = SLM_A.copy()\n",
    "slm_scale = slm.scale(m=5)\n",
    "_ = slm_scale.isValid(is_plot=True, figsize=(3,3))\n",
    "print(slm_scale.getAntimony())"
   ]
  },
  {
   "cell_type": "markdown",
   "metadata": {},
   "source": [
    "## Concatenate"
   ]
  },
  {
   "cell_type": "code",
   "execution_count": null,
   "metadata": {},
   "outputs": [],
   "source": [
    "slm = SLM_A.copy()\n",
    "slm_concatenate = slm.concatenate(SLM_B)\n",
    "_ = slm_concatenate.isValid(is_plot=True, figsize=(3,3))\n",
    "print(slm_concatenate.getAntimony())"
   ]
  },
  {
   "cell_type": "markdown",
   "metadata": {},
   "source": [
    "For all models, S1 is the input and S2 is the output."
   ]
  },
  {
   "cell_type": "markdown",
   "metadata": {},
   "source": [
    "## Branchjoin Operation"
   ]
  },
  {
   "cell_type": "code",
   "execution_count": null,
   "metadata": {},
   "outputs": [],
   "source": [
    "slm_a = SLM_A.copy()\n",
    "slm_branchjoin = slm_a.branchjoin(SLM_B)\n",
    "_ = slm_branchjoin.isValid(is_plot=True, figsize=(3,3))\n",
    "print(slm_branchjoin.getAntimony())"
   ]
  },
  {
   "cell_type": "markdown",
   "metadata": {},
   "source": [
    "## Positive Feedback Operation"
   ]
  },
  {
   "cell_type": "code",
   "execution_count": null,
   "metadata": {},
   "outputs": [],
   "source": [
    "slm_a = SLM_A.copy()\n",
    "slm_pfeedback = slm_a.pfeedback()\n",
    "_ = slm_pfeedback.isValid(is_plot=True, figsize=(3,3))\n",
    "print(slm_pfeedback.getAntimony())"
   ]
  },
  {
   "cell_type": "markdown",
   "metadata": {},
   "source": [
    "## Negative feedback"
   ]
  },
  {
   "cell_type": "code",
   "execution_count": null,
   "metadata": {},
   "outputs": [],
   "source": [
    "slm_a = SLM_A.copy()\n",
    "slm_nfeedback = slm_a.nfeedback()\n",
    "_ = slm_nfeedback.isValid(is_plot=True, figsize=(3,3))\n",
    "print(slm_nfeedback.getAntimony())"
   ]
  },
  {
   "cell_type": "code",
   "execution_count": null,
   "metadata": {},
   "outputs": [],
   "source": [
    "slm_nfeedback = slm_a.nfeedback(k1=30, k5=8.65)\n",
    "#slm_nfeedback = slm_a.nfeedback()\n",
    "_, builder = slm_nfeedback.plotStaircaseResponse(times=np.linspace(0, 100, 1000))\n",
    "df, score = slm_nfeedback.named_transfer_function.evaluate(str(builder), fractional_deviation=0.1, is_plot=True, figsize=(3,3))\n",
    "score"
   ]
  },
  {
   "cell_type": "markdown",
   "metadata": {},
   "source": [
    "# Presentation Figures"
   ]
  },
  {
   "cell_type": "markdown",
   "metadata": {},
   "source": [
    "## Network A"
   ]
  },
  {
   "cell_type": "code",
   "execution_count": null,
   "metadata": {},
   "outputs": [],
   "source": [
    "MODEL_A = \"\"\"\n",
    "$S1 -> S2; kA1*S1\n",
    "S2 -> ; kA2*S2\n",
    "S2 -> S3; kA3*S2\n",
    "S3 -> ; kA4*S3\n",
    "\n",
    "kA1=1; kA2=2; kA3=3; kA4=4\n",
    "S1=10; S2=0; S3=0\n",
    "\"\"\"\n",
    "rr = te.loada(MODEL_A)\n",
    "kA1 = rr[\"kA1\"]\n",
    "kA2 = rr[\"kA2\"]\n",
    "kA3 = rr[\"kA3\"]\n",
    "kA4 = rr[\"kA4\"]\n",
    "SAI = rr[\"S1\"]\n",
    "data = rr.simulate(TIMES[0], TIMES[-1], len(TIMES), selections=[\"time\", \"[S3]\"])\n",
    "SIMULATIONS_A = data[\"[S3]\"]\n",
    "rr.plot(xlabel=\"time\", ylabel=\"simulation\")"
   ]
  },
  {
   "cell_type": "code",
   "execution_count": null,
   "metadata": {},
   "outputs": [],
   "source": [
    "s = control.TransferFunction.s\n",
    "A_TF = kA1*kA3/((s + kA2 + kA3)*(s + kA4))\n",
    "_, PREDICTIONS_A = control.forced_response(A_TF, T=TIMES, U=SAI)\n",
    "plt.plot(TIMES, PREDICTIONS_A)\n",
    "plt.xlabel(\"time\")\n",
    "plt.ylabel(\"prediction\")"
   ]
  },
  {
   "cell_type": "code",
   "execution_count": null,
   "metadata": {},
   "outputs": [],
   "source": [
    "plt.scatter(SIMULATIONS_A, PREDICTIONS_A)\n",
    "plt.xlabel(\"simulations\")\n",
    "plt.ylabel(\"predictions\")\n",
    "plt.plot([0, 1.5], [0, 1.5], color=\"red\")"
   ]
  },
  {
   "cell_type": "markdown",
   "metadata": {},
   "source": [
    "## Scale network"
   ]
  },
  {
   "cell_type": "code",
   "execution_count": null,
   "metadata": {},
   "outputs": [],
   "source": [
    "MODEL_AS1 = \"\"\"\n",
    "# Desired behavior of the scale network.\n",
    "# using an assignment rule.\n",
    "S1 -> S2; kA1*S1\n",
    "S2 -> ; kA2*S2\n",
    "S2 -> S3; kA3*S2\n",
    "S3 -> ; kA4*S3\n",
    "kA1=1; kA2=2; kA3=3; kA4=4\n",
    "$S1=10; S2=0; S3=0;\n",
    "\n",
    "# Output of the scale network\n",
    "m = 5\n",
    "SO = 0\n",
    "SO := m*S3\n",
    "\"\"\"\n",
    "rr = te.loada(MODEL_AS1)\n",
    "kA1 = rr[\"kA1\"]\n",
    "kA2 = rr[\"kA2\"]\n",
    "kA3 = rr[\"kA3\"]\n",
    "kA4 = rr[\"kA4\"]\n",
    "SAI = rr[\"S1\"]\n",
    "data = rr.simulate(TIMES[0], TIMES[-1], len(TIMES), selections=[\"time\", \"[S3]\", \"SO\"])\n",
    "SIMULATIONS_AS1 = data[\"[S3]\"]\n",
    "rr.plot(xlabel=\"time\", ylabel=\"simulation\")"
   ]
  },
  {
   "cell_type": "code",
   "execution_count": null,
   "metadata": {},
   "outputs": [],
   "source": [
    "MODEL_AS2 = \"\"\"\n",
    "# Failed attempt at scale network.\n",
    "S1 -> S2; kA1*S1\n",
    "S2 -> ; kA2*S2\n",
    "S2 -> S3; kA3*S2\n",
    "S3 -> ; kA4*S3\n",
    "S3 -> m S4; kS1*S3 // Scale network\n",
    "kA1=1; kA2=2; kA3=3; kA4=4; kS1=50\n",
    "$S1=10; S2=0; S3=0; S4=0\n",
    "m = 5\n",
    "\"\"\"\n",
    "rr = te.loada(MODEL_AS2)\n",
    "kA1 = rr[\"kA1\"]\n",
    "kA2 = rr[\"kA2\"]\n",
    "kA3 = rr[\"kA3\"]\n",
    "kA4 = rr[\"kA4\"]\n",
    "kAO = kA4\n",
    "S1 = rr[\"S1\"]\n",
    "kS1 = rr[\"kS1\"]\n",
    "M = rr[\"m\"]\n",
    "data = rr.simulate(TIMES[0], TIMES[-1], len(TIMES), selections=[\"time\", \"[S3]\", \"[S4]\"])\n",
    "SIMULATIONS_AS = data[\"[S4]\"]\n",
    "plt.plot(TIMES, SIMULATIONS_AS)\n",
    "#rr.plot(xlabel=\"time\", ylabel=\"simulation\", ylim=[0, 7])\n",
    "plt.xlabel(\"time\")\n",
    "plt.ylabel(\"simulated S4\")"
   ]
  },
  {
   "cell_type": "code",
   "execution_count": null,
   "metadata": {},
   "outputs": [],
   "source": [
    "tf = M*kS1*A_TF*(s + kAO)/(s + kAO + kS1)*1/s\n",
    "_, PREDICTIONS_AS = control.forced_response(tf, T=TIMES, U=S1)\n",
    "plt.plot(TIMES, PREDICTIONS_AS)"
   ]
  },
  {
   "cell_type": "code",
   "execution_count": null,
   "metadata": {},
   "outputs": [],
   "source": [
    "plt.scatter(SIMULATIONS_AS, PREDICTIONS_AS)\n",
    "plt.xlabel(\"simulations\")\n",
    "plt.ylabel(\"predictions\")\n",
    "plt.plot([0, 300], [0, 300], color=\"red\")"
   ]
  },
  {
   "cell_type": "markdown",
   "metadata": {},
   "source": [
    "## Corrected scale network"
   ]
  },
  {
   "cell_type": "code",
   "execution_count": null,
   "metadata": {},
   "outputs": [],
   "source": [
    "# Successful implementation of scale network.\n",
    "MODEL_AS3 = \"\"\"\n",
    "S1 -> S2; kA1*S1\n",
    "S2 -> ; kA2*S2\n",
    "S2 -> S3; kA3*S2\n",
    "S3 -> ; kA4*S3\n",
    "S3 -> mp S4; kS1*S3 // Scale network\n",
    "S4 -> ; kS2*S4\n",
    "kA1=1; kA2=2; kA3=3; kA4=4; kS1=50; kS2=10\n",
    "$S1=10; S2=0; S3=0; S4=0\n",
    "m = 5\n",
    "mp = m*kS2*(kA4 + kS1)/(kA4*kS1)\n",
    "\"\"\"\n",
    "rr = te.loada(MODEL_AS3)\n",
    "kA1 = rr[\"kA1\"]\n",
    "kA2 = rr[\"kA2\"]\n",
    "kA3 = rr[\"kA3\"]\n",
    "kA4 = rr[\"kA4\"]\n",
    "kAO = kA4\n",
    "S1 = rr[\"S1\"]\n",
    "kS1 = rr[\"kS1\"]\n",
    "kS2 = rr[\"kS2\"]\n",
    "M = rr[\"m\"]\n",
    "data = rr.simulate(TIMES[0], TIMES[-1], len(TIMES), selections=[\"time\", \"[S3]\", \"[S4]\"])\n",
    "SIMULATIONS_AS3 = data[\"[S4]\"]\n",
    "#\n",
    "rr = te.loada(MODEL_AS1)\n",
    "data = rr.simulate(TIMES[0], TIMES[-1], len(TIMES), selections=[\"time\", \"[S3]\", \"SO\"])\n",
    "simulation_desired = data[\"SO\"]\n",
    "plt.plot(TIMES, simulation_desired, marker=\"o\")\n",
    "plt.plot(TIMES, SIMULATIONS_AS3)\n",
    "plt.legend([\"desired\", \"fixed scale network\"])\n",
    "#rr.plot(xlabel=\"time\", ylabel=\"simulation\", ylim=[0, 7])\n",
    "plt.xlabel(\"time\")\n",
    "plt.ylabel(\"simulated S4\")\n",
    "plt.title(\"Corrected Scale Network\")"
   ]
  },
  {
   "cell_type": "code",
   "execution_count": null,
   "metadata": {},
   "outputs": [],
   "source": [
    "rr = te.loada(MODEL_AS1)\n",
    "data = rr.simulate(TIMES[0], TIMES[-1], len(TIMES), selections=[\"time\", \"[S3]\", \"SO\"])\n",
    "simulation_desired = data[\"SO\"]"
   ]
  },
  {
   "cell_type": "code",
   "execution_count": null,
   "metadata": {},
   "outputs": [],
   "source": [
    "Mp = M*(kS2*(kAO + kS1))/(kAO*kS1)\n",
    "scale_tf = Mp*kS1/(s + kS2)\n",
    "tf = A_TF*(s + kAO)/(s + kAO + kS1)*scale_tf\n",
    "_, predictions = control.forced_response(tf, T=TIMES, U=S1)\n",
    "plt.scatter(SIMULATIONS_AS3, predictions)\n",
    "plt.plot([0, 8], [0, 8], color=\"red\")\n",
    "plt.xlabel(\"simulation\")\n",
    "plt.ylabel(\"prediction\")\n",
    "plt.title(\"Transfer Function of Corrected Scale Network\")"
   ]
  },
  {
   "cell_type": "code",
   "execution_count": null,
   "metadata": {},
   "outputs": [],
   "source": [
    "# Transfer function\n",
    "Mp = M*(kS2*(kAO + kS1))/(kAO*kS1)\n",
    "scale_tf = Mp*kS1/(s + kS2)\n",
    "tf = A_TF*(s + kAO)/(s + kAO + kS1)*scale_tf\n",
    "_, predictions = control.forced_response(tf, T=TIMES, U=S1)\n",
    "# Simulation of desired\n",
    "rr = te.loada(MODEL_AS1)\n",
    "data = rr.simulate(TIMES[0], TIMES[-1], len(TIMES), selections=[\"time\", \"[S3]\", \"SO\"])\n",
    "simulation_desired = data[\"SO\"]\n",
    "#\n",
    "plt.plot(TIMES, simulation_desired, marker=\"*\", color=\"r\")\n",
    "plt.plot(TIMES, SIMULATIONS_AS3, color=\"b\", marker=\"o\", markersize=10, mfc='none')\n",
    "plt.plot(TIMES, predictions, marker=\"x\", color=\"g\")\n",
    "plt.legend([\"desired\", \"simulated corrected scale network\", \"transfer function\"])\n",
    "#rr.plot(xlabel=\"time\", ylabel=\"simulation\", ylim=[0, 7])\n",
    "plt.xlabel(\"time\")\n",
    "plt.ylabel(\"simulated S4\")\n",
    "plt.title(\"Corrected Scale Network\")"
   ]
  }
 ],
 "metadata": {
  "colab": {
   "provenance": [],
   "toc_visible": true
  },
  "kernelspec": {
   "display_name": "Python 3 (ipykernel)",
   "language": "python",
   "name": "python3"
  },
  "language_info": {
   "codemirror_mode": {
    "name": "ipython",
    "version": 3
   },
   "file_extension": ".py",
   "mimetype": "text/x-python",
   "name": "python",
   "nbconvert_exporter": "python",
   "pygments_lexer": "ipython3",
   "version": "3.9.6"
  }
 },
 "nbformat": 4,
 "nbformat_minor": 4
}
