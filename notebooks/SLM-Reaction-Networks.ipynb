{
 "cells": [
  {
   "cell_type": "markdown",
   "metadata": {
    "id": "n73Eh5JAZBfP"
   },
   "source": [
    "# SISO LINEAR MODULAR (SLM) REACTION NETWORKS"
   ]
  },
  {
   "cell_type": "markdown",
   "metadata": {},
   "source": [
    "This notebook contains numerical studies to check the derivation of transfer functions for compositions\n",
    "of SLM reaction networks."
   ]
  },
  {
   "cell_type": "code",
   "execution_count": 1,
   "metadata": {},
   "outputs": [],
   "source": [
    "import sys\n",
    "sys.path.insert(0, \"/Users/jlheller/home/Technical/repos/controlSBML/src\")"
   ]
  },
  {
   "cell_type": "code",
   "execution_count": 2,
   "metadata": {},
   "outputs": [],
   "source": [
    "import lrn_builder.slm_network"
   ]
  },
  {
   "cell_type": "code",
   "execution_count": 3,
   "metadata": {
    "id": "tWS_uO_5ZFM_"
   },
   "outputs": [],
   "source": [
    "import numpy as np\n",
    "import pandas as pd\n",
    "import tellurium as te\n",
    "import matplotlib.pyplot as plt\n",
    "import sympy as sp\n",
    "import control\n",
    "from lrn_builder.slm_network import SLMNetwork"
   ]
  },
  {
   "cell_type": "markdown",
   "metadata": {},
   "source": [
    "# Helpers "
   ]
  },
  {
   "cell_type": "code",
   "execution_count": 4,
   "metadata": {},
   "outputs": [],
   "source": [
    "TEST_MODEL = \"\"\"\n",
    "model *main()\n",
    "$SI -> SO; TEST_KIO*SI\n",
    "SO ->; TEST_KO*SO\n",
    "\n",
    "SI = 0\n",
    "TEST_KIO = 2\n",
    "TEST_KO = 1\n",
    "end\n",
    "\"\"\""
   ]
  },
  {
   "cell_type": "code",
   "execution_count": 5,
   "metadata": {},
   "outputs": [],
   "source": [
    "TEST_KIO = 2\n",
    "TEST_KO = 1\n",
    "TEST_TF = control.TransferFunction([TEST_KIO], [1, TEST_KO])"
   ]
  },
  {
   "cell_type": "code",
   "execution_count": 6,
   "metadata": {
    "id": "rxtGmMOUinRc"
   },
   "outputs": [
    {
     "name": "stdout",
     "output_type": "stream",
     "text": [
      "OK!\n"
     ]
    }
   ],
   "source": [
    "def plotStep(model=None, tf=None, title=\"\", figsize=(8, 8), is_plot=True, **kwargs):\n",
    "    \"\"\"\n",
    "    Assumes that input is SI and output is SO\n",
    "\n",
    "    Args:\n",
    "\n",
    "    Returns:\n",
    "        np.array (data from simulation)\n",
    "        np.array (predictions)\n",
    "    \"\"\"\n",
    "    if \"SI\" in kwargs.keys():\n",
    "        SI = kwargs[\"SI\"]\n",
    "    else:\n",
    "        raise ValueError(\"Must specify input SI\")\n",
    "    #\n",
    "    _, ax = plt.subplots(1, figsize=figsize)\n",
    "    if model is not None:\n",
    "        rr = te.loada(model)\n",
    "        for key, value in kwargs.items():\n",
    "            rr[key] = value\n",
    "        selections = [\"time\", \"SO\"]\n",
    "        data = rr.simulate(selections=selections)\n",
    "    else:\n",
    "        data = None\n",
    "    if data is None:\n",
    "            times = np.linspace(0, 5, 50)\n",
    "    else:\n",
    "        times = data[\"time\"]\n",
    "    if tf is not None:\n",
    "        times, predictions = control.step_response(tf, T=times)\n",
    "        predictions = SI*predictions\n",
    "    else:\n",
    "        predictions = None\n",
    "    if (tf is not None) and (model is not None):\n",
    "        ax.scatter(data[:, 1], predictions, color=\"red\", marker=\"*\")\n",
    "        ax.set_xlabel(\"simulated\")\n",
    "        ax.set_ylabel(\"predicted\")\n",
    "        max_simulated = np.max(data[:, 1])\n",
    "        max_predictions = np.max(predictions)\n",
    "        max_value = max(max_simulated, max_predictions)\n",
    "        ax.plot([0, max_value], [0, max_value], linestyle=\"--\")\n",
    "    else:\n",
    "        if data is not None:\n",
    "            ax.scatter(times, data[:, 1], marker=\"o\")\n",
    "            ax.set_xlabel(\"time\")\n",
    "            ax.set_ylabel(\"simulations\")\n",
    "        elif predictions is not None:\n",
    "            ax.scatter(times, predictions, marker=\"o\")\n",
    "            ax.set_xlabel(\"time\")\n",
    "            ax.set_ylabel(\"predictions\")\n",
    "    ax.set_title(title)\n",
    "    if not is_plot:\n",
    "        plt.close()\n",
    "    return data, predictions\n",
    "\n",
    "# Tests\n",
    "is_plot = False\n",
    "data, _ = plotStep(model=TEST_MODEL, SI=5, TEST_KIO=TEST_KIO, TEST_KO=TEST_KO, title=\"test\", figsize=(3,3), is_plot=is_plot)\n",
    "assert(data[-1, 1] > 0)\n",
    "_ = plotStep(SI=5, tf=TEST_TF, TEST_K12=TEST_KIO, TEST_K2=TEST_KO, title=\"test\", figsize=(3,3), is_plot=is_plot)\n",
    "_ = plotStep(model=TEST_MODEL, SI=5, tf=TEST_TF, TEST_KIO=TEST_KIO, TEST_KO=TEST_KO, title=\"test\", figsize=(3,3), is_plot=is_plot)\n",
    "print(\"OK!\")"
   ]
  },
  {
   "cell_type": "markdown",
   "metadata": {},
   "source": [
    "# Sequential SLM Reaction Network"
   ]
  },
  {
   "cell_type": "markdown",
   "metadata": {},
   "source": [
    "# Scale Operation"
   ]
  },
  {
   "cell_type": "markdown",
   "metadata": {},
   "source": [
    "# Concatenate Operation"
   ]
  },
  {
   "cell_type": "code",
   "execution_count": 7,
   "metadata": {},
   "outputs": [
    {
     "data": {
      "text/plain": [
       "\n",
       "        model <<model_name>>()\n",
       "        SI -> SO; kIO*SI\n",
       "        SO -> ; kO*SO\n",
       "        kIO = 1.000000\n",
       "        kO = 1.000000\n",
       "        SI = 0\n",
       "        SO = 0\n",
       "        end\n",
       "        "
      ]
     },
     "execution_count": 7,
     "metadata": {},
     "output_type": "execute_result"
    }
   ],
   "source": [
    "slm1 = SLMNetwork.makeTwoSpeciesNetwork(1, 1)\n",
    "slm1.template"
   ]
  },
  {
   "cell_type": "code",
   "execution_count": 8,
   "metadata": {},
   "outputs": [
    {
     "data": {
      "text/plain": [
       "\n",
       "        model <<model_name>>()\n",
       "        SI -> SO; kIO*SI\n",
       "        SO -> ; kO*SO\n",
       "        kIO = 2.000000\n",
       "        kO = 2.000000\n",
       "        SI = 0\n",
       "        SO = 0\n",
       "        end\n",
       "        "
      ]
     },
     "execution_count": 8,
     "metadata": {},
     "output_type": "execute_result"
    }
   ],
   "source": [
    "slm2 = SLMNetwork.makeTwoSpeciesNetwork(2, 2)\n",
    "slm2.template"
   ]
  },
  {
   "cell_type": "code",
   "execution_count": 9,
   "metadata": {},
   "outputs": [
    {
     "data": {
      "image/png": "[encoded data removed]",
      "text/plain": [
       "<Figure size 300x300 with 1 Axes>"
      ]
     },
     "metadata": {},
     "output_type": "display_data"
    }
   ],
   "source": [
    "slm_concatenate = slm1.concatenate(slm2)\n",
    "_ = slm_concatenate.plotTransferFunctionEvaluation(figsize=(3,3))"
   ]
  },
  {
   "cell_type": "code",
   "execution_count": 14,
   "metadata": {},
   "outputs": [
    {
     "data": {
      "text/latex": [
       "$$\\frac{s}{1}$$"
      ],
      "text/plain": [
       "TransferFunction(array([1, 0]), array([1]))"
      ]
     },
     "execution_count": 14,
     "metadata": {},
     "output_type": "execute_result"
    }
   ],
   "source": [
    "control.TransferFunction.s"
   ]
  },
  {
   "cell_type": "markdown",
   "metadata": {},
   "source": [
    "For all models, S1 is the input and S2 is the output."
   ]
  },
  {
   "cell_type": "markdown",
   "metadata": {},
   "source": [
    "# Forkjoin Operation"
   ]
  },
  {
   "cell_type": "code",
   "execution_count": null,
   "metadata": {},
   "outputs": [],
   "source": [
    "model_forkjoin = \"\"\"\n",
    "model *main()\n",
    "$SI -> S2A; k12A*SI\n",
    "S2A ->; k2A*S2A\n",
    "$SI -> S2B; k12B*SI\n",
    "S2B ->; k2B*S2B\n",
    "SO := S2A + S2B\n",
    "SI =5\n",
    "k12A =3\n",
    "k12B = 2\n",
    "k2A = 2\n",
    "k2B = 2\n",
    "S2A = 0\n",
    "S2B = 0\n",
    "end\n",
    "\"\"\""
   ]
  },
  {
   "cell_type": "code",
   "execution_count": null,
   "metadata": {},
   "outputs": [],
   "source": [
    "k12A = 5\n",
    "k2A = 1\n",
    "k12B = 3\n",
    "k2B = 2\n",
    "S1 = 5\n",
    "tf1 = control.TransferFunction([k12A], [1, k2A])\n",
    "tf2 = control.TransferFunction([k12B], [1, k2B])\n",
    "tf = tf1 + tf2\n",
    "_ = plotStep(model=model_forkjoin, tf=tf, SI=SI, k12A=k12A, k2A=k2A, k12B=k12B, k2B=k2B, title=\"forkjoin\", figsize=(5,5))"
   ]
  },
  {
   "cell_type": "markdown",
   "metadata": {},
   "source": [
    "# Loop Operation"
   ]
  },
  {
   "cell_type": "markdown",
   "metadata": {},
   "source": [
    "\\begin{eqnarray}\n",
    "H(s) & = & \\frac{ k_1  k_2 k_3 k_4 G(s)}\n",
    "{s \\left( s^2 + (k_2 + k_4 +k_5)s + k_2 k_4 + k_2 k_ 5 - k_2 k_3 k_5 G(s) \\right)} \\\\\n",
    "\\end{eqnarray}\n"
   ]
  },
  {
   "cell_type": "code",
   "execution_count": null,
   "metadata": {},
   "outputs": [],
   "source": [
    "# Get correct poles and zeroes. So problem is with the math.\n",
    "# \n",
    "def loopTransferFunction(model_tf, k1, k2, k3, k4, k5, k6, knI, knO):\n",
    "    \"\"\"\n",
    "    Constructs the transfer function from S_I to S_O for the loop operation.\n",
    "\n",
    "    Args:\n",
    "        model_tf: Transfer function (of the network being looped)\n",
    "        k1, k2, k3, k4, k5, k6: float (Parameters of the loop operation)\n",
    "        kn: float (k_O^N, degradation constant for the output of the network being looped)\n",
    "    \"\"\"\n",
    "    # Calculate terms\n",
    "    s = control.TransferFunction.s\n",
    "    K1 = k1*k2*k3*k4\n",
    "    K2 = k2*k3*k5\n",
    "    D1 = control.TransferFunction([1, k2], [1])\n",
    "    D2 = control.TransferFunction([1, k4+k5], [1])\n",
    "    D = D1*D2\n",
    "    C = control.TransferFunction([1], [1, knI])*control.TransferFunction([1, knO], [1, knO + k3])\n",
    "    # Denominator\n",
    "    denom_tf = (s + k6)*(D - K2*C*model_tf)\n",
    "    numr_tf = K1*C*model_tf\n",
    "    #\n",
    "    tf = numr_tf/denom_tf\n",
    "    return tf\n",
    "\n",
    "# Tests\n",
    "model_tf = control.TransferFunction([1], [1, 1])\n",
    "model_tf = control.TransferFunction([1], [1])\n",
    "k1 = 1; k2 = 1; k3 =1; k4 =1; k5 = 0.8; k6=1; knO=2; knI=1\n",
    "tf = loopTransferFunction(model_tf, k1, k2, k3, k4, k5, k6, knI, knO) \n",
    "assert(isinstance(tf, control.TransferFunction))\n",
    "print(\"OK!\")"
   ]
  },
  {
   "cell_type": "code",
   "execution_count": null,
   "metadata": {},
   "outputs": [],
   "source": [
    "# The looped network is S1A -> S2A, S2A ->;\n",
    "model_loop = \"\"\"\n",
    "model *main()\n",
    "species XO;\n",
    "// Reactions external to looped network\n",
    "J__SI__XI: $SI -> XI; k1*SI\n",
    "J__XI__N_SI: XI -> N_SI; k2*XI\n",
    "J3: N_SO -> XO; k3*N_SO\n",
    "J4: XO -> SO; k4*XO\n",
    "J4a: SO ->; k6*SO\n",
    "// Looped network\n",
    "J5: N_SI -> N_SO; kIO*N_SI\n",
    "J6: N_SO -> ; kO*N_SO\n",
    "// Added reactions\n",
    "J7: XO -> XI; k5*XO\n",
    "SI =5\n",
    "N_SI = 0\n",
    "N_SO = 0\n",
    "SO = 0\n",
    "#\n",
    "k1 = 1\n",
    "k2 = 1\n",
    "k3 = 1\n",
    "k4 = 1\n",
    "k5 = 0.8\n",
    "k6 = 0.5\n",
    "kIO = 3\n",
    "kO = 2\n",
    "end\n",
    "\"\"\"\n",
    "rr = te.loada(model_loop)\n",
    "data_S = rr.simulate(1, 10, 100, selections=[\"time\", \"SI\", \"SO\", \"XI\", \"XO\", \"N_SO\", \"N_SI\"])\n",
    "rr.plot()\n",
    "rr.reset()\n",
    "#rr.simulate(1, 10, 100, selections=[\"time\", \"J1\", \"J2\", \"J3\", \"J4\", \"J5\", \"J6\", \"J7\"])\n",
    "data_J = rr.simulate(1, 100, 1000, selections=[\"time\", \"J3\", \"J5\", \"J6\", \"N_SO'\", \"N_SI'\"])\n",
    "rr.plot()"
   ]
  },
  {
   "cell_type": "markdown",
   "metadata": {},
   "source": [
    "\\begin{eqnarray}\n",
    "s S_O (s) & = & k_4 X_O (s)  \\\\\n",
    "s X_I (s) & = & k_5 X_O(s) + k_1 S_I (s) - k_2 X_I (s) \\\\\n",
    "s N.S_I (s) & = & k_2 X_I(s) - N.k_I N.S_I(s) \\\\\n",
    "\\end{eqnarray}"
   ]
  },
  {
   "cell_type": "code",
   "execution_count": null,
   "metadata": {},
   "outputs": [],
   "source": [
    "k1 = 1; k2 = 10; k3 = 1; k4=1; k5=0.2; k6=0.5\n",
    "kIO = 10; kO =20; SI=5\n",
    "inner_tf = control.TransferFunction([kIO], [1, kO])\n",
    "tf = loopTransferFunction(inner_tf, k1, k2, k3, k4, k5, k6, kIO, kO)\n",
    "#_ = plotStep(model=model_loop, tf=tf, figsize=(3, 3), k=k, k1=k1, k2=k2, SI=SI, kIO=kIO, kO=kO)\n",
    "#_ = plotStep(model=model_loop, figsize=(3, 3), k1=k1, k2=k2, k3=k3, k4=k4, k5=k5, SI=SI, kIO=kIO, kO=kO)\n",
    "#_ = plotStep( tf=tf, figsize=(3, 3), k1=k1, k2=k2, k3=k3, k4=k4, k5=k5, SI=SI, kIO=kIO, kO=kO)\n",
    "_ = plotStep(model=model_loop, tf=tf, figsize=(3, 3), k1=k1, k2=k2, k3=k3, k4=k4, k5=k5, k6=k6, SI=SI, kIO=kIO, kO=kO)"
   ]
  }
 ],
 "metadata": {
  "colab": {
   "provenance": [],
   "toc_visible": true
  },
  "kernelspec": {
   "display_name": "Python 3 (ipykernel)",
   "language": "python",
   "name": "python3"
  },
  "language_info": {
   "codemirror_mode": {
    "name": "ipython",
    "version": 3
   },
   "file_extension": ".py",
   "mimetype": "text/x-python",
   "name": "python",
   "nbconvert_exporter": "python",
   "pygments_lexer": "ipython3",
   "version": "3.9.6"
  }
 },
 "nbformat": 4,
 "nbformat_minor": 4
}
