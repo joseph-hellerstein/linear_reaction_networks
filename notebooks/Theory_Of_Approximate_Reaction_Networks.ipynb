{
 "cells": [
  {
   "cell_type": "markdown",
   "metadata": {
    "id": "n73Eh5JAZBfP"
   },
   "source": [
    "# THEORY OF APPROXIMATE REACTION NETWORKS"
   ]
  },
  {
   "cell_type": "code",
   "execution_count": 1,
   "metadata": {
    "id": "tWS_uO_5ZFM_"
   },
   "outputs": [],
   "source": [
    "import numpy as np\n",
    "import pandas as pd\n",
    "import tellurium as te\n",
    "import controlSBML as ctl\n",
    "import control\n",
    "import matplotlib.pyplot as plt"
   ]
  },
  {
   "cell_type": "markdown",
   "metadata": {},
   "source": [
    "# Helpers "
   ]
  },
  {
   "cell_type": "code",
   "execution_count": 2,
   "metadata": {},
   "outputs": [],
   "source": [
    "TEST_MODEL = \"\"\"\n",
    "model *main()\n",
    "$SI -> SO; TEST_KIO*SI\n",
    "SO ->; TEST_KO*SO\n",
    "\n",
    "SI = 0\n",
    "TEST_KIO = 2\n",
    "TEST_KO = 1\n",
    "end\n",
    "\"\"\""
   ]
  },
  {
   "cell_type": "code",
   "execution_count": 3,
   "metadata": {},
   "outputs": [],
   "source": [
    "TEST_KIO = 2\n",
    "TEST_KO = 1\n",
    "TEST_TF = control.TransferFunction([TEST_KIO], [1, TEST_KO])"
   ]
  },
  {
   "cell_type": "code",
   "execution_count": 4,
   "metadata": {
    "id": "rxtGmMOUinRc"
   },
   "outputs": [
    {
     "name": "stdout",
     "output_type": "stream",
     "text": [
      "OK!\n"
     ]
    }
   ],
   "source": [
    "def plotStep(model=None, tf=None, title=\"\", figsize=(8, 8), is_plot=True, **kwargs):\n",
    "    \"\"\"\n",
    "    Assumes that input is SI and output is SO\n",
    "    \"\"\"\n",
    "    if \"SI\" in kwargs.keys():\n",
    "        SI = kwargs[\"SI\"]\n",
    "    else:\n",
    "        raise ValueError(\"Must specify input SI\")\n",
    "    #\n",
    "    _, ax = plt.subplots(1, figsize=figsize)\n",
    "    if model is not None:\n",
    "        rr = te.loada(model)\n",
    "        for key, value in kwargs.items():\n",
    "            rr[key] = value\n",
    "        selections = [\"time\", \"SO\"]\n",
    "        data = rr.simulate(selections=selections)\n",
    "    else:\n",
    "        data = None\n",
    "    if data is None:\n",
    "            times = np.linspace(0, 5, 50)\n",
    "    else:\n",
    "        times = data[\"time\"]\n",
    "    if tf is not None:\n",
    "        times, predictions = control.step_response(tf, T=times)\n",
    "        predictions = SI*predictions\n",
    "    else:\n",
    "        predictions = None\n",
    "    if (tf is not None) and (model is not None):\n",
    "        ax.scatter(data[:, 1], predictions, color=\"red\", marker=\"*\")\n",
    "        ax.set_xlabel(\"simulated\")\n",
    "        ax.set_ylabel(\"predicted\")\n",
    "        max_simulated = np.max(data[:, 1])\n",
    "        max_predictions = np.max(predictions)\n",
    "        max_value = max(max_simulated, max_predictions)\n",
    "        ax.plot([0, max_value], [0, max_value], linestyle=\"--\")\n",
    "    else:\n",
    "        if data is not None:\n",
    "            ax.scatter(times, data[:, 1], marker=\"o\")\n",
    "            ax.set_xlabel(\"time\")\n",
    "            ax.set_ylabel(\"simulations\")\n",
    "        elif predictions is not None:\n",
    "            ax.scatter(times, predictions, marker=\"o\")\n",
    "            ax.set_xlabel(\"time\")\n",
    "            ax.set_ylabel(\"predictions\")\n",
    "    ax.set_title(title)\n",
    "    if not is_plot:\n",
    "        plt.close()\n",
    "    return data, predictions\n",
    "\n",
    "# Tests\n",
    "is_plot = False\n",
    "data, _ = plotStep(model=TEST_MODEL, SI=5, TEST_KIO=TEST_KIO, TEST_KO=TEST_KO, title=\"test\", figsize=(3,3), is_plot=is_plot)\n",
    "assert(data[-1, 1] > 0)\n",
    "_ = plotStep(SI=5, tf=TEST_TF, TEST_K12=TEST_KIO, TEST_K2=TEST_KO, title=\"test\", figsize=(3,3), is_plot=is_plot)\n",
    "_ = plotStep(model=TEST_MODEL, SI=5, tf=TEST_TF, TEST_KIO=TEST_KIO, TEST_KO=TEST_KO, title=\"test\", figsize=(3,3), is_plot=is_plot)\n",
    "print(\"OK!\")"
   ]
  },
  {
   "cell_type": "markdown",
   "metadata": {
    "id": "LOaCbIM-Rbf8"
   },
   "source": [
    "# Theory"
   ]
  },
  {
   "cell_type": "markdown",
   "metadata": {
    "id": "h0aGCBdiRewj"
   },
   "source": [
    "The idea is to develop transfer functions based on an algebra on reaction networks.\n",
    "**Outline**\n",
    "1. Consider the network\n",
    "  * $S_1 \\rightarrow S_2$ at rate $k_{1,2}S_1$\n",
    "  * $S_2 \\rightarrow ∅$ at rate $k_2 S_2$\n",
    "1. The foregoing has the transfer function $\\frac{k_2}{s + k_{1,2}}$.\n",
    "1. Creating a sequential path of networks multiplies their transfer functions. The result is a composite system that has all the poles and zeroes of the component systems.\n",
    "1. Summing the outputs (two paths to equivalent chemical species) adds transfer functions. The result is a composite system that has the poles of the component systems but different zeroes.\n",
    "1. Feedback transforms the poles of a transfer function."
   ]
  },
  {
   "cell_type": "markdown",
   "metadata": {
    "id": "Gi_kiGtTSmaw"
   },
   "source": [
    "**Claim**. Given a proper transfer function whose numerator and denominator are polynomials with real coefficients, we can construct a reaction network with the given transfer function."
   ]
  },
  {
   "cell_type": "markdown",
   "metadata": {
    "id": "6qSg_UhqTErN"
   },
   "source": [
    "**Implications**\n",
    "1. Can design oscillators.\n",
    "1. Can approximate reaction networks.\n",
    "1. Have an understanding of poles and zeros."
   ]
  },
  {
   "cell_type": "markdown",
   "metadata": {},
   "source": [
    "## Concepts and notation"
   ]
  },
  {
   "cell_type": "markdown",
   "metadata": {},
   "source": [
    "We use subscripted and superscripted $S$ to indicate chemical species. Where there is no confusion, we use the same symbol for its concentration as well. In contexts where there may be confusion between the name and its concentration, we explicitly indicate a concentration using square brackets. For example, $[S_0]$ is the concentration of species $S_0$.\n",
    "\n",
    "* A (uni-uni) **reaction** is a triple expressed as $S_I \\xrightarrow{k} S_O$ indicates the transformation of mass from species $S_I$ to $S_O$ using mass action with the kinetic constant $k$. If $k < 0$, then $S_O$ is transformed into $S_I$; that is, $S_O \\xrightarrow{-k} S_I$. If $S_I = \\emptyset$ or $S_O = \\emptyset$, then this a boundary reaction. For an input boundary, $k_I$ is a fixed rate. If $S_O = \\emptyset$, then this is a degradation reaction.\n",
    "\n",
    "* A **SISO Reaction Network (SRN)** is $N = <S, S_I, S_O, R, k_I, k_O>$ where:\n",
    "    * $S$ is a set of chemical species\n",
    "    * $S_I, S_O \\in S$ are input and output species.\n",
    "    * $R$ is a set of reactions.\n",
    "    * $k_I S_I$ is the rate at which the input is consumed.\n",
    "    * $k_O S_O$ is the rate at which the output is degraded.\n",
    "\n",
    "* We indicate components of an object using a dot (\".\"), such as $N.S_I$\n"
   ]
  },
  {
   "cell_type": "markdown",
   "metadata": {},
   "source": [
    "## Network Operations"
   ]
  },
  {
   "cell_type": "markdown",
   "metadata": {
    "id": "Kvj8uwTMw-D-"
   },
   "source": [
    "These are operations applied to SISO reaction networks that produce a new SISO reaction network.\n",
    "In the sequel, $N^A, N^B$ are SRNs.\n",
    "\n",
    "**Sequence** is an asymmetric, binary operation.\n",
    "Let $N$,, $N^A, N^B$ be SISO reaction networks such that $N^A.S \\bigcap N^B.S = \\{N^A.S_O = S^B.S_I \\}$. \n",
    "Sequence applied these SRNs, denoted by $N = N^A \\circ  N^B$, is:\n",
    "* $S = N^A.S \\bigcup N^B.S$\n",
    "* $S_I =N^A.S_I$\n",
    "* $S_O = N^B.S_O$\n",
    "* $R = R^A \\bigcup R^B$\n",
    "* $k_I = N^A.k_I$\n",
    "* $k_O = N^B.k_O$\n",
    "\n",
    "**Forkjoin** is a symmetric, binary operation.\n",
    "Assume that $N^A.S \\bigcap N^B.S = \\{N^A.S_I\\} = \\{N_B.S_I \\}$.\n",
    "The forkjoin of these networks, denoted by $N = N^A + N^B$, is:\n",
    "* $S = N^A.S \\bigcup N^B.S \\bigcup \\{ O \\}$\n",
    "* $S_I = N^A.S_I = N^B.S_I$\n",
    "* $S_O$ is a new species defined as $\\{ N^A.S_O, N^B.S_O\\}$\n",
    "* $R = R^A \\bigcup R^B$\n",
    "* $k_I = N^A.k_I + N^B.k_I$\n",
    "* $k_O = N^A.k_O + N^B.k_O$\n",
    "\n",
    "**Amplify** is a unary operation.\n",
    "$amplify(N, K, k)$, $0 \\lt K, k$. $[S_O] = K[N.S_O]$.\n",
    "* $S = N.S$\n",
    "* $S_I = N.S_I$\n",
    "* $S_O = N.S_O$\n",
    "* $R = N.R \\bigcup \\{N.S_I \\xrightarrow{k} N.S_O,~ N.S_O \\xrightarrow{Kk} N.S_I \\}$\n",
    "* $k_I = N.k_I + \\frac{1}{k}$\n",
    "* $k_O = N.k_O + \\frac{K}{k}$\n",
    "\n",
    "**Loop** is a unary operation.\n",
    "$loop(N, S_I, S_O, k_1, k_2, k)$ is a unary operation, where: $k$ is real. The loop operation is similar to electrical circuits that use an operational amplifier.\n",
    "* $S = N.S \\bigcup \\{S_I, S_O \\}$\n",
    "* $R = R \\bigcup \\{S_I \\xrightarrow{k_1} N.S_I,~ N.S_O \\xrightarrow{k} N.S_I,~ N.S_O \\xrightarrow{k_2} S_O \\}$\n",
    "* $k_I = N.k_I$\n",
    "* $k_O = N.k_O + k$\n",
    "\n",
    "**Insulate** is a unary operation that separates a network from its environment.\n",
    "$insulate(N, S_I, S_O, k_1, k_2)$ is a unary operation.\n",
    "* $S = N.S \\bigcup \\{S_I, S_O \\}$\n",
    "* $R = R \\bigcup \\{S_I \\xrightarrow{k_1} N.S_I,~ N.S_O \\xrightarrow{k_2} S_O \\}$\n",
    "* $k_I = k_1$\n",
    "* $k_O = 0$\n",
    "\n",
    "Note that we can just insulate the input by setting $k_2 = 0$, and simularly, just insulate the output by $k_1 = 0$.\n",
    "\n",
    "**Instantiate** is a uniary operation.\n",
    "$instantiate(N)$ creates a network with the same reaction and kinetic constants but unique species."
   ]
  },
  {
   "cell_type": "code",
   "execution_count": 15,
   "metadata": {},
   "outputs": [
    {
     "name": "stdout",
     "output_type": "stream",
     "text": [
      "/Users/jlheller/home/Technical/repos/network_approximations/notebooks\n"
     ]
    }
   ],
   "source": [
    "!pwd"
   ]
  },
  {
   "cell_type": "markdown",
   "metadata": {},
   "source": [
    "**Loop**. Elements inside the outer box are in the network being looped. Note that $N.S_I, N.S_O$ are shared between the inside and outside of the network.\n",
    "\n",
    "<img src=\"images/loop.png\"\n",
    "     alt=\"Markdown Monster icon\" \n",
    "     width=\"800\" height=\"1000\"\n",
    "     style=\"float: left; margin-right: 10px;\" />"
   ]
  },
  {
   "cell_type": "markdown",
   "metadata": {},
   "source": [
    "## Networks"
   ]
  },
  {
   "cell_type": "markdown",
   "metadata": {
    "id": "MdNciGeeHKhb"
   },
   "source": [
    "### Two Species Reaction Network (2SRN)"
   ]
  },
  {
   "cell_type": "markdown",
   "metadata": {},
   "source": [
    "* $S = \\{S_I, S_O\\}$\n",
    "* $R = \\{ S_I \\xrightarrow{k_{IO}} S_O, S_O \\xrightarrow{k_O} ∅ \\}$\n",
    "* $k_I = k_{IO}$\n",
    "* $k_O = k_{O}$\n",
    "\n",
    "Claim that the transfer function from $S_I$ to $S_O$ is $\\frac{k_I + k_{IO}}{s + k_O}$."
   ]
  },
  {
   "cell_type": "markdown",
   "metadata": {
    "id": "p1FE8voEL1Fj"
   },
   "source": [
    "### Sequence two 2SBNs"
   ]
  },
  {
   "cell_type": "markdown",
   "metadata": {},
   "source": [
    "Let $N^A$, $N^B$ be 2SBN with $S^A.S_O = S^B.S_I$.\n",
    "Then $N = N^A \\circ N^B$ has the following properties:\n",
    "* $S = \\{S^A_I, S^A_O = S^B_I, S^B_O \\}$\n",
    "* $R = R^A \\bigcup R^B$\n",
    "* $S_I = S^A_I$\n",
    "* $S_O = S^B_O$\n",
    "* $k_I = N^A.k_I$\n",
    "* $k_O = k^B_O$\n",
    "\n",
    "$N$\n",
    "has transfer function $H(s)$\n",
    "$$H(s) = H^A(s) H^B(s)\\frac{s + k^A_O}{s+ k^B_I + k^A_O}$$."
   ]
  },
  {
   "cell_type": "markdown",
   "metadata": {
    "id": "p1FE8voEL1Fj"
   },
   "source": [
    "### Forkjoin two 2SBNs"
   ]
  },
  {
   "cell_type": "markdown",
   "metadata": {},
   "source": [
    "Let $N^A$, $N^B$ be 2SBN with $S^A.S_I = S^B.S_I$.\n",
    "Then $N = N^A + N^B$ has the following properties:\n",
    "* $S = \\{S^A_O, S^A.S_I = S^B.S_I, S^B_O \\}$\n",
    "* $R = R^A \\bigcup R^B$\n",
    "* $S_I = S^A.S_I = S^B.S_I$\n",
    "* $S_O = \\{ S^A.S_O, S^B.S_O \\}$\n",
    "* $k_I = k^A_I + k^B_I$\n",
    "* $k_O = k^A_O + k^B_O$\n",
    "\n",
    "$N$\n",
    "has transfer function $H(s)$\n",
    "$$H(s) = H^A(s) + H^B(s)$$."
   ]
  },
  {
   "cell_type": "markdown",
   "metadata": {},
   "source": [
    "## Claims"
   ]
  },
  {
   "cell_type": "markdown",
   "metadata": {
    "id": "g80vLfq8kXIF"
   },
   "source": [
    "1. **Transfer function for sequence**. Let $N_1, N_2$ be reaction networks with transfer functions $H_1(s), H_2(s)$ that satisfy the conditions for concatenation. Let $N = N_1 \\circ N_2$, and let $H(s)$ be its transfer function. Claim that $H(s) = H_1 (s) H_2(s)\\frac{s + N^A.k_O}{s + N^A.k_O + N^B.k_I}$.\n",
    "1. **Transfer function for forkjoin**. Let $N_1, N_2$ be reaction networks with transfer functions $H_1(s), H_2(s)$ that satisfy the conditions for branching. Let $H(s)$ be the transfer function for $N_1 + N_2$. Claim that $H(s) = H_1 (s) + H_2(s)$.\n",
    "1. **Transfer function for scale**. Let $N_1$ be a reaction network with transfer function $H_1(s)$. Let $N  = K \\times N_1$, and $H(s)$ be its transfer function. Claim that $H(s) = kH_1(s)$.\n",
    "1. **Transfer function for loop**.\n",
    "  1. Given, $N$, its transfer function $G(s) = \\frac{N(s)}{D(s)}$. Find $S_O(s) = H(s) S_I(s)$ for $loop(N, k)$.\n",
    "\n",
    "Below are the basic equations.\n",
    "\\begin{eqnarray}\n",
    "s S_O (s) & = & k_2 X_O (s)  \\\\\n",
    "s X_I (s) & = & k X_O(s) + k_1 S_I (s) - k^X_I X_I (s) \\\\\n",
    "X_I(s) & = & \\frac{k X_O(s) + k_1 S_I (s)}{s + k^X_I} \\\\\n",
    "s X_O (s) & = & -k_2 X_O (s) -k X_O (s) + s  G(s) X_I(s) (s + k^X_I)\\\\\n",
    "  & = & -k_2 X_O (s) -k X_O (s) + s G(s) (k X_O(s) + k_1 S_I (s)) \\\\\n",
    "\\end{eqnarray}\n",
    "Note that since $X_I(s)$ is adjusted for $k^X_I$, we must remove this from the transfer function $G(s)$.\n",
    "\n",
    "\\begin{eqnarray}\n",
    "X_O (s) & = & \\frac{s  k_1 G(s) S_I (s) }{s + k + k_2 - k s G(s)}  \\\\\n",
    "S_O (s) & = & \\frac{k_2}{s} \\frac{s  k_1 G(s) S_I (s) }{s + k + k_2 - k s G(s)}  \\\\\n",
    "  & = &    \\frac{k_1  k_2 G(s) S_I (s) }{s + k + k_2 - k s G(s)}  \\\\\n",
    "H (s) & = &   \\frac{k_1  k_2 G(s) }{s + k + k_2 - k s G(s)}  \\\\\n",
    "\\end{eqnarray}\n",
    "\n",
    "Observe that:\n",
    "1. If $k, k_2 \\rightarrow 0$, then the denominator is 0, and the system \"blows up\".\n",
    "2. If $k \\rightarrow 0$, then we have a zero at 0 and a new pole.\n",
    "3. Clean up the symbols. Use $X_I, X_O$.\n",
    "4. The expression is strange because the step response should not be finite. Missing a 1/s? Have a problem with the slope as well."
   ]
  },
  {
   "cell_type": "markdown",
   "metadata": {
    "id": "g80vLfq8kXIF"
   },
   "source": [
    "1. **Transfer function for loop**.\n",
    "  1. Given, $N$, its transfer function $G(s) = \\frac{N(s)}{D(s)}$. Find $S_O(s) = H(s) S_I(s)$ for $loop(N, k)$.\n",
    "\n",
    "Below are the basic equations.\n",
    "\\begin{eqnarray}\n",
    "s S_O (s) & = & k_4 X_O (s)  \\\\\n",
    "s X_I (s) & = & k_5 X_O(s) + k_1 S_I (s) - k_2 X_I (s) \\\\\n",
    "X_I(s) & = & \\frac{k_5 X_O(s) + k_1 S_I (s)}{s + k_2} \\\\\n",
    "s X_O (s) & = & -k_4 X_O (s) - k_5 X_O (s) + k_2 k_3 X_I(s) G(s) \\\\\n",
    "\\end{eqnarray}\n",
    "Note that since $X_I(s)$ is adjusted for $k^X_I$, we must remove this from the transfer function $G(s)$."
   ]
  },
  {
   "cell_type": "markdown",
   "metadata": {},
   "source": [
    "\n",
    "\\begin{eqnarray}\n",
    "X_O (s) & = & \\frac{k_2 k_3 X_I (s) G(s)}{s + k_4 + k_5}  \\\\\n",
    "&= & \\frac{k_5 X_O(s) + k_1 S_I (s)}{s + k_2} \\frac{k_2 k_3 G(s)}{s + k_4 + k_5} \\\\\n",
    "X_O (s) (s + k_2) (s + k_4 + k_5)  & = & \n",
    "k_5 X_O(s) k_2 k_3 G(s) + k_1 S_I (s) k_2 k_3 G(s) \\\\\n",
    "X_0 (s) & = & \\frac{ k_1  k_2 k_3 G(s) S_I (s)}\n",
    "{(s + k_2) (s + k_4 + k_5) - k_2 k_3 k_5 G(s)} \\\\\n",
    "S_O (s) & = & \\frac{k_4}{s} \\frac{ k_1  k_2 k_3 G(s) S_I (s)}\n",
    "{(s + k_2) (s + k_4 + k_5) - k_2 k_3 k_5 G(s)} \\\\\n",
    "   & = & \\frac{ k_1  k_2 k_3 k_4 G(s) S_I (s)}\n",
    "{s \\left((s + k_2) (s + k_4 + k_5) - k_2 k_3 k_5 G(s) \\right)} \\\\\n",
    " & = & \\frac{ k_1  k_2 k_3 k_4 G(s) S_I (s)}\n",
    "{s \\left( s^2 + (k_2 + k_4 +k_5)s + k_2 k_4 + k_2 k_ 5 - k_2 k_3 k_5 G(s) \\right)} \\\\\n",
    "H(s) & = & \\frac{ k_1  k_2 k_3 k_4 G(s)}\n",
    "{s \\left( s^2 + (k_2 + k_4 +k_5)s + k_2 k_4 + k_2 k_ 5 - k_2 k_3 k_5 G(s) \\right)} \\\\\n",
    "\\end{eqnarray}\n",
    "\n",
    "Observe that:\n",
    "1. If $k, k_2 \\rightarrow 0$, then the denominator is 0, and the system \"blows up\".\n",
    "2. If $k \\rightarrow 0$, then we have a zero at 0 and a new pole.\n",
    "3. Clean up the symbols. Use $X_I, X_O$.\n",
    "4. The expression is strange because the step response should not be finite. Missing a 1/s? Have a problem with the slope as well."
   ]
  },
  {
   "cell_type": "markdown",
   "metadata": {},
   "source": [
    "## Notes\n",
    "1. Apply insulate consistently."
   ]
  },
  {
   "cell_type": "markdown",
   "metadata": {
    "id": "gsBx9gzLh_zp"
   },
   "source": [
    "# Numerical Studies"
   ]
  },
  {
   "cell_type": "markdown",
   "metadata": {},
   "source": [
    "## Sequence"
   ]
  },
  {
   "cell_type": "markdown",
   "metadata": {},
   "source": [
    "For all models, S1 is the input and S2 is the output."
   ]
  },
  {
   "cell_type": "code",
   "execution_count": 5,
   "metadata": {},
   "outputs": [
    {
     "data": {
      "image/png": "[encoded data removed]",
      "text/plain": [
       "<Figure size 600x400 with 1 Axes>"
      ]
     },
     "metadata": {},
     "output_type": "display_data"
    }
   ],
   "source": [
    "model_sequence = \"\"\"\n",
    "model *main()\n",
    "$SI -> X1O; k12*SI\n",
    "X1O ->; k2*X1O\n",
    "X1O -> SO; k23*X1O\n",
    "SO -> ; k3*SO\n",
    "\n",
    "SI =5\n",
    "k12 = 2\n",
    "k2 = 1\n",
    "k23 = 3\n",
    "k3 = 2\n",
    "end\n",
    "\"\"\"\n",
    "rr = te.loada(model_sequence)\n",
    "rr.simulate()\n",
    "rr.plot()"
   ]
  },
  {
   "cell_type": "code",
   "execution_count": 6,
   "metadata": {
    "colab": {
     "base_uri": "https://localhost:8080/",
     "height": 1000
    },
    "id": "YTE0aHv9jGEC",
    "outputId": "2a2f73c0-034c-4a53-bc45-49f94517bf02"
   },
   "outputs": [
    {
     "data": {
      "image/png": "[encoded data removed]",
      "text/plain": [
       "<Figure size 300x300 with 1 Axes>"
      ]
     },
     "metadata": {},
     "output_type": "display_data"
    }
   ],
   "source": [
    "k12 = 1.5\n",
    "k2 = 1\n",
    "k23 = 3\n",
    "k3 = 2\n",
    "SI = 5\n",
    "tf1 = control.TransferFunction([k12], [1, k2])\n",
    "tf2 = control.TransferFunction([k23], [1, k3])\n",
    "tf3 = control.TransferFunction([1, k2], [1, k2+k23 ])\n",
    "# tf3 adjusts for the consumption of S2 by the second network\n",
    "tf = tf1*tf2*tf3\n",
    "_ = plotStep(model=model_sequence, tf=tf, SI=SI, k12=k12, k2=k2, k23=k23, k3=k3, title=\"Sequence\", figsize=(3, 3))\n",
    "# _ = plotStep(tf=tf, SI=SI, k12=k12, k2=k2, k23=k23, k3=k3, title=\"Sequence\", figsize=(3, 3))"
   ]
  },
  {
   "cell_type": "markdown",
   "metadata": {},
   "source": [
    "## Forkjoin"
   ]
  },
  {
   "cell_type": "code",
   "execution_count": 7,
   "metadata": {},
   "outputs": [],
   "source": [
    "model_forkjoin = \"\"\"\n",
    "model *main()\n",
    "$SI -> S2A; k12A*SI\n",
    "S2A ->; k2A*S2A\n",
    "$SI -> S2B; k12B*SI\n",
    "S2B ->; k2B*S2B\n",
    "SO := S2A + S2B\n",
    "SI =5\n",
    "k12A =3\n",
    "k12B = 2\n",
    "k2A = 2\n",
    "k2B = 2\n",
    "S2A = 0\n",
    "S2B = 0\n",
    "end\n",
    "\"\"\""
   ]
  },
  {
   "cell_type": "code",
   "execution_count": 8,
   "metadata": {},
   "outputs": [
    {
     "data": {
      "image/png": "[encoded data removed]",
      "text/plain": [
       "<Figure size 500x500 with 1 Axes>"
      ]
     },
     "metadata": {},
     "output_type": "display_data"
    }
   ],
   "source": [
    "k12A = 5\n",
    "k2A = 1\n",
    "k12B = 3\n",
    "k2B = 2\n",
    "S1 = 5\n",
    "tf1 = control.TransferFunction([k12A], [1, k2A])\n",
    "tf2 = control.TransferFunction([k12B], [1, k2B])\n",
    "tf = tf1 + tf2\n",
    "_ = plotStep(model=model_forkjoin, tf=tf, SI=SI, k12A=k12A, k2A=k2A, k12B=k12B, k2B=k2B, title=\"forkjoin\", figsize=(5,5))"
   ]
  },
  {
   "cell_type": "markdown",
   "metadata": {},
   "source": [
    "## Loop"
   ]
  },
  {
   "cell_type": "markdown",
   "metadata": {},
   "source": [
    "\\begin{eqnarray}\n",
    "H(s) & = & \\frac{ k_1  k_2 k_3 k_4 G(s)}\n",
    "{s \\left( s^2 + (k_2 + k_4 +k_5)s + k_2 k_4 + k_2 k_ 5 - k_2 k_3 k_5 G(s) \\right)} \\\\\n",
    "\\end{eqnarray}\n"
   ]
  },
  {
   "cell_type": "code",
   "execution_count": 17,
   "metadata": {},
   "outputs": [
    {
     "name": "stdout",
     "output_type": "stream",
     "text": [
      "OK!\n"
     ]
    }
   ],
   "source": [
    "# Get correct poles and zeroes. So problem is with the math.\n",
    "# \n",
    "def loopTransferFunction(model_tf, k1, k2, k3, k4, k5):\n",
    "    \"\"\"\n",
    "    Constructs the transfer function from S_I to S_O for the loop operation.\n",
    "    \"\"\"\n",
    "    s_tf = control.TransferFunction([1, 0], [1])\n",
    "    denom_tf = control.TransferFunction([1,  k2 + k4+ k5, k2*k4 + k2*k5], [1])\n",
    "    denom_tf = denom_tf - k2*k3*k5*model_tf\n",
    "    denom_tf = s_tf*denom_tf\n",
    "    numr_tf = k1*k2*k3*k4*model_tf\n",
    "    tf = numr_tf/denom_tf\n",
    "    return tf\n",
    "\n",
    "# Tests\n",
    "model_tf = control.TransferFunction([1], [1, 1])\n",
    "model_tf = control.TransferFunction([1], [1])\n",
    "k1 = 1; k2 = 1; k3 =1; k4 =1; k5 = 0.8\n",
    "tf = loopTransferFunction(model_tf, k1, k2, k3, k4, k5) \n",
    "assert(isinstance(tf, control.TransferFunction))\n",
    "print(\"OK!\")"
   ]
  },
  {
   "cell_type": "code",
   "execution_count": 18,
   "metadata": {},
   "outputs": [
    {
     "data": {
      "text/latex": [
       "$$\\frac{1}{s^3 + 2.8 s^2 + s}$$"
      ],
      "text/plain": [
       "TransferFunction(array([1]), array([1. , 2.8, 1. , 0. ]))"
      ]
     },
     "execution_count": 18,
     "metadata": {},
     "output_type": "execute_result"
    }
   ],
   "source": [
    "tf"
   ]
  },
  {
   "cell_type": "code",
   "execution_count": null,
   "metadata": {},
   "outputs": [],
   "source": [
    "b"
   ]
  },
  {
   "cell_type": "code",
   "execution_count": 20,
   "metadata": {},
   "outputs": [
    {
     "data": {
      "image/png": "[encoded data removed]",
      "text/plain": [
       "<Figure size 600x400 with 1 Axes>"
      ]
     },
     "metadata": {},
     "output_type": "display_data"
    }
   ],
   "source": [
    "# The looped network is S1A -> S2A, S2A ->;\n",
    "model_loop = \"\"\"\n",
    "model *main()\n",
    "// Boundary reactions\n",
    "$SI -> XI; k1*SI\n",
    "XI -> N_SI; k2*XI\n",
    "N_SO -> XO; k3*N_SO\n",
    "XO -> SO; k4*XO\n",
    "// Looped network\n",
    "N_SI -> N_SO; kIO*N_SI\n",
    "N_SO -> ; kO*N_SO\n",
    "// Added reactions\n",
    "XO -> XI; k5*XO\n",
    "SI =5\n",
    "N_SI = 0\n",
    "N_SO = 0\n",
    "SO = 0\n",
    "#\n",
    "k1 = 1\n",
    "k2 = 1\n",
    "k3 = 1\n",
    "k4 = 1\n",
    "k5 = 0.8\n",
    "kIO = 3\n",
    "kO = 2\n",
    "k = 3\n",
    "end\n",
    "\"\"\"\n",
    "rr = te.loada(model_loop)\n",
    "rr.simulate(1, 10, 100)\n",
    "rr.plot()"
   ]
  },
  {
   "cell_type": "code",
   "execution_count": 25,
   "metadata": {},
   "outputs": [
    {
     "data": {
      "image/png": "[encoded data removed]",
      "text/plain": [
       "<Figure size 300x300 with 1 Axes>"
      ]
     },
     "metadata": {},
     "output_type": "display_data"
    },
    {
     "data": {
      "image/png": "[encoded data removed]",
      "text/plain": [
       "<Figure size 300x300 with 1 Axes>"
      ]
     },
     "metadata": {},
     "output_type": "display_data"
    },
    {
     "data": {
      "image/png": "[encoded data removed]",
      "text/plain": [
       "<Figure size 300x300 with 1 Axes>"
      ]
     },
     "metadata": {},
     "output_type": "display_data"
    }
   ],
   "source": [
    "k1 = 1; k2 = 1; k3 = 1; k4=1; k5=0.8\n",
    "kIO = 1; kO =5; SI=5\n",
    "inner_tf = control.TransferFunction([kIO], [1, kO])\n",
    "tf = loopTransferFunction(inner_tf, k1, k2, k3, k4, k5)\n",
    "#_ = plotStep(model=model_loop, tf=tf, figsize=(3, 3), k=k, k1=k1, k2=k2, SI=SI, kIO=kIO, kO=kO)\n",
    "_ = plotStep(model=model_loop, figsize=(3, 3), k1=k1, k2=k2, k3=k3, k4=k4, k5=k5, SI=SI, kIO=kIO, kO=kO)\n",
    "_ = plotStep( tf=tf, figsize=(3, 3), k1=k1, k2=k2, k3=k3, k4=k4, k5=k5, SI=SI, kIO=kIO, kO=kO)\n",
    "_ = plotStep(model=model_loop, tf=tf, figsize=(3, 3), k1=k1, k2=k2, k3=k3, k4=k4, k5=k5, SI=SI, kIO=kIO, kO=kO)"
   ]
  },
  {
   "cell_type": "code",
   "execution_count": null,
   "metadata": {},
   "outputs": [],
   "source": [
    "tf.poles()"
   ]
  },
  {
   "cell_type": "markdown",
   "metadata": {},
   "source": [
    "### Debug"
   ]
  },
  {
   "cell_type": "code",
   "execution_count": null,
   "metadata": {},
   "outputs": [],
   "source": [
    "# The looped network is S1A -> S2A, S2A ->;\n",
    "model_inner = \"\"\"\n",
    "model *main()\n",
    "// Looped network\n",
    "$S1 -> S2; k12*S1\n",
    "S2 -> ; k2*S2\n",
    "S1 =5\n",
    "k12 = 3\n",
    "k2 = 2\n",
    "S2 = 0\n",
    "end\n",
    "\"\"\""
   ]
  },
  {
   "cell_type": "code",
   "execution_count": null,
   "metadata": {},
   "outputs": [],
   "source": [
    "# Inner model only\n",
    "k12 = 30; k2 =1.8; S1=5\n",
    "inner_tf = control.TransferFunction([k12], [1, k2])\n",
    "plotStep(model=model_inner, tf=inner_tf, selections=[\"S2\"], figsize=(3, 3), S1=S1, k12=k12, k2=k2)"
   ]
  }
 ],
 "metadata": {
  "colab": {
   "provenance": [],
   "toc_visible": true
  },
  "kernelspec": {
   "display_name": "Python 3 (ipykernel)",
   "language": "python",
   "name": "python3"
  },
  "language_info": {
   "codemirror_mode": {
    "name": "ipython",
    "version": 3
   },
   "file_extension": ".py",
   "mimetype": "text/x-python",
   "name": "python",
   "nbconvert_exporter": "python",
   "pygments_lexer": "ipython3",
   "version": "3.9.6"
  }
 },
 "nbformat": 4,
 "nbformat_minor": 4
}
