{
 "cells": [
  {
   "cell_type": "markdown",
   "metadata": {
    "id": "n73Eh5JAZBfP"
   },
   "source": [
    "# THEORY OF APPROXIMATE REACTION NETWORKS"
   ]
  },
  {
   "cell_type": "code",
   "execution_count": 1,
   "metadata": {
    "id": "tWS_uO_5ZFM_"
   },
   "outputs": [],
   "source": [
    "import numpy as np\n",
    "import pandas as pd\n",
    "import tellurium as te\n",
    "import controlSBML as ctl\n",
    "import control\n",
    "import matplotlib.pyplot as plt"
   ]
  },
  {
   "cell_type": "markdown",
   "metadata": {},
   "source": [
    "# Helpers "
   ]
  },
  {
   "cell_type": "code",
   "execution_count": 2,
   "metadata": {},
   "outputs": [],
   "source": [
    "TEST_MODEL = \"\"\"\n",
    "model *main()\n",
    "$S1 -> S2; TEST_K12*S1\n",
    "S2 ->; TEST_K2*S2\n",
    "\n",
    "S1 = 0\n",
    "TEST_K12 = 2\n",
    "TEST_K2 = 1\n",
    "end\n",
    "\"\"\""
   ]
  },
  {
   "cell_type": "code",
   "execution_count": 3,
   "metadata": {},
   "outputs": [],
   "source": [
    "TEST_K12 = 2\n",
    "TEST_K2 = 1\n",
    "TEST_TF = control.TransferFunction([TEST_K12], [1, TEST_K2])"
   ]
  },
  {
   "cell_type": "code",
   "execution_count": 4,
   "metadata": {
    "id": "rxtGmMOUinRc"
   },
   "outputs": [
    {
     "ename": "NameError",
     "evalue": "name 'S1' is not defined",
     "output_type": "error",
     "traceback": [
      "\u001b[0;31m---------------------------------------------------------------------------\u001b[0m",
      "\u001b[0;31mNameError\u001b[0m                                 Traceback (most recent call last)",
      "Cell \u001b[0;32mIn[4], line 36\u001b[0m\n\u001b[1;32m     33\u001b[0m         plt\u001b[38;5;241m.\u001b[39mclose()\n\u001b[1;32m     35\u001b[0m plotStep(S1\u001b[38;5;241m=\u001b[39m\u001b[38;5;241m5\u001b[39m, TEST_K12\u001b[38;5;241m=\u001b[39mTEST_K12, TEST_K2\u001b[38;5;241m=\u001b[39mTEST_K2, selections\u001b[38;5;241m=\u001b[39m[\u001b[38;5;124m\"\u001b[39m\u001b[38;5;124mS2\u001b[39m\u001b[38;5;124m\"\u001b[39m], title\u001b[38;5;241m=\u001b[39m\u001b[38;5;124m\"\u001b[39m\u001b[38;5;124mtest\u001b[39m\u001b[38;5;124m\"\u001b[39m, figsize\u001b[38;5;241m=\u001b[39m(\u001b[38;5;241m3\u001b[39m,\u001b[38;5;241m3\u001b[39m), is_plot\u001b[38;5;241m=\u001b[39m\u001b[38;5;28;01mFalse\u001b[39;00m)\n\u001b[0;32m---> 36\u001b[0m \u001b[43mplotStep\u001b[49m\u001b[43m(\u001b[49m\u001b[43mS1\u001b[49m\u001b[38;5;241;43m=\u001b[39;49m\u001b[38;5;241;43m5\u001b[39;49m\u001b[43m,\u001b[49m\u001b[43m \u001b[49m\u001b[43mtf\u001b[49m\u001b[38;5;241;43m=\u001b[39;49m\u001b[43mTEST_TF\u001b[49m\u001b[43m,\u001b[49m\u001b[43m \u001b[49m\u001b[43mTEST_K12\u001b[49m\u001b[38;5;241;43m=\u001b[39;49m\u001b[43mTEST_K12\u001b[49m\u001b[43m,\u001b[49m\u001b[43m \u001b[49m\u001b[43mTEST_K2\u001b[49m\u001b[38;5;241;43m=\u001b[39;49m\u001b[43mTEST_K2\u001b[49m\u001b[43m,\u001b[49m\u001b[43m \u001b[49m\u001b[43mselections\u001b[49m\u001b[38;5;241;43m=\u001b[39;49m\u001b[43m[\u001b[49m\u001b[38;5;124;43m\"\u001b[39;49m\u001b[38;5;124;43mS2\u001b[39;49m\u001b[38;5;124;43m\"\u001b[39;49m\u001b[43m]\u001b[49m\u001b[43m,\u001b[49m\u001b[43m \u001b[49m\u001b[43mtitle\u001b[49m\u001b[38;5;241;43m=\u001b[39;49m\u001b[38;5;124;43m\"\u001b[39;49m\u001b[38;5;124;43mtest\u001b[39;49m\u001b[38;5;124;43m\"\u001b[39;49m\u001b[43m,\u001b[49m\u001b[43m \u001b[49m\u001b[43mfigsize\u001b[49m\u001b[38;5;241;43m=\u001b[39;49m\u001b[43m(\u001b[49m\u001b[38;5;241;43m3\u001b[39;49m\u001b[43m,\u001b[49m\u001b[38;5;241;43m3\u001b[39;49m\u001b[43m)\u001b[49m\u001b[43m,\u001b[49m\u001b[43m \u001b[49m\u001b[43mis_plot\u001b[49m\u001b[38;5;241;43m=\u001b[39;49m\u001b[38;5;28;43;01mFalse\u001b[39;49;00m\u001b[43m)\u001b[49m\n\u001b[1;32m     37\u001b[0m \u001b[38;5;28mprint\u001b[39m(\u001b[38;5;124m\"\u001b[39m\u001b[38;5;124mOK!\u001b[39m\u001b[38;5;124m\"\u001b[39m)\n",
      "Cell \u001b[0;32mIn[4], line 17\u001b[0m, in \u001b[0;36mplotStep\u001b[0;34m(model, tf, selections, title, figsize, is_plot, **kwargs)\u001b[0m\n\u001b[1;32m     15\u001b[0m times, predictions \u001b[38;5;241m=\u001b[39m control\u001b[38;5;241m.\u001b[39mstep_response(tf, T\u001b[38;5;241m=\u001b[39mdata[\u001b[38;5;124m\"\u001b[39m\u001b[38;5;124mtime\u001b[39m\u001b[38;5;124m\"\u001b[39m])\n\u001b[1;32m     16\u001b[0m \u001b[38;5;28;01mif\u001b[39;00m \u001b[38;5;124m\"\u001b[39m\u001b[38;5;124mS1\u001b[39m\u001b[38;5;124m\"\u001b[39m \u001b[38;5;129;01min\u001b[39;00m kwargs\u001b[38;5;241m.\u001b[39mkeys():\n\u001b[0;32m---> 17\u001b[0m     mult \u001b[38;5;241m=\u001b[39m \u001b[43mS1\u001b[49m\n\u001b[1;32m     18\u001b[0m \u001b[38;5;28;01melse\u001b[39;00m:\n\u001b[1;32m     19\u001b[0m     mult \u001b[38;5;241m=\u001b[39m \u001b[38;5;241m1\u001b[39m\n",
      "\u001b[0;31mNameError\u001b[0m: name 'S1' is not defined"
     ]
    },
    {
     "data": {
      "image/png": "[encoded data removed]",
      "text/plain": [
       "<Figure size 300x300 with 1 Axes>"
      ]
     },
     "metadata": {},
     "output_type": "display_data"
    }
   ],
   "source": [
    "def plotStep(model=TEST_MODEL, tf=None, selections=None, title=\"\", figsize=(8, 8), is_plot=True, **kwargs):\n",
    "    \"\"\"\n",
    "    Assumes that input is S1 and output is S2\n",
    "    \"\"\"\n",
    "    _, ax = plt.subplots(1, figsize=figsize)\n",
    "    rr = te.loada(model)\n",
    "    for key, value in kwargs.items():\n",
    "        rr[key] = value\n",
    "    if selections is not None:\n",
    "        new_selections = list(selections)\n",
    "        new_selections.insert(0, \"time\")\n",
    "        rr.selections = new_selections\n",
    "    data = rr.simulate()\n",
    "    if tf is not None:\n",
    "        times, predictions = control.step_response(tf, T=data[\"time\"])\n",
    "        if \"S1\" in kwargs.keys():\n",
    "            mult = kwargs[\"S1\"]\n",
    "        else:\n",
    "            mult = 1\n",
    "        predictions = mult*predictions\n",
    "        ax.scatter(data[:, 1], predictions, color=\"red\", marker=\"*\")\n",
    "        ax.set_xlabel(\"simulated\")\n",
    "        ax.set_ylabel(\"predicted\")\n",
    "        max_simulated = np.max(data[:, 1])\n",
    "        max_predictions = np.max(predictions)\n",
    "        max_value = max(max_simulated, max_predictions)\n",
    "        ax.plot([0, max_value], [0, max_value], linestyle=\"--\")\n",
    "    else:\n",
    "        ax.scatter(data[:, 0], data[:, 1], marker=\"o\")\n",
    "        ax.set_xlabel(\"time\")\n",
    "    ax.set_title(title)\n",
    "    if not is_plot:\n",
    "        plt.close()\n",
    "\n",
    "plotStep(S1=5, TEST_K12=TEST_K12, TEST_K2=TEST_K2, selections=[\"S2\"], title=\"test\", figsize=(3,3), is_plot=False)\n",
    "plotStep(S1=5, tf=TEST_TF, TEST_K12=TEST_K12, TEST_K2=TEST_K2, selections=[\"S2\"], title=\"test\", figsize=(3,3), is_plot=False)\n",
    "print(\"OK!\")"
   ]
  },
  {
   "cell_type": "markdown",
   "metadata": {
    "id": "LOaCbIM-Rbf8"
   },
   "source": [
    "# Theory"
   ]
  },
  {
   "cell_type": "markdown",
   "metadata": {
    "id": "h0aGCBdiRewj"
   },
   "source": [
    "The idea is to develop transfer functions based on an algebra on reaction networks.\n",
    "**Outline**\n",
    "1. Consider the network\n",
    "  * $S_1 \\rightarrow S_2$ at rate $k_{1,2}S_1$\n",
    "  * $S_2 \\rightarrow ∅$ at rate $k_2 S_2$\n",
    "1. The foregoing has the transfer function $\\frac{k_2}{s + k_{1,2}}$.\n",
    "1. Creating a sequential path of networks multiplies their transfer functions. The result is a composite system that has all the poles and zeroes of the component systems.\n",
    "1. Summing the outputs (two paths to equivalent chemical species) adds transfer functions. The result is a composite system that has the poles of the component systems but different zeroes.\n",
    "1. Feedback transforms the poles of a transfer function."
   ]
  },
  {
   "cell_type": "markdown",
   "metadata": {
    "id": "Gi_kiGtTSmaw"
   },
   "source": [
    "**Claim**. Given a proper transfer function whose numerator and denominator are polynomials with real coefficients, we can construct a reaction network with the given transfer function."
   ]
  },
  {
   "cell_type": "markdown",
   "metadata": {
    "id": "6qSg_UhqTErN"
   },
   "source": [
    "**Implications**\n",
    "1. Can design oscillators.\n",
    "1. Can approximate reaction networks.\n",
    "1. Have an understanding of poles and zeros."
   ]
  },
  {
   "cell_type": "markdown",
   "metadata": {},
   "source": [
    "## Concepts and notation"
   ]
  },
  {
   "cell_type": "markdown",
   "metadata": {},
   "source": [
    "We use subscripted and superscripted $S$ to indicate chemical species. Where there is no confusion, we use the same symbol for its concentration as well. In contexts where there may be confusion between the name and its concentration, we explicitly indicate a concentration using square brackets. For example, $[S_0]$ is the concentration of species $S_0$.\n",
    "\n",
    "* A (uni-uni) **reaction** is a triple expressed as $S_I \\xrightarrow{k} S_O$ indicates the transformation of mass from species $S_I$ to $S_O$ using mass action with the kinetic constant $k$. If $k < 0$, then $S_O$ is transformed into $S_I$; that is, $S_O \\xrightarrow{-k} S_I$. If $S_I = \\emptyset$ or $S_O = \\emptyset$, then this a boundary reaction. For an input boundary, $k_I$ is a fixed rate. If $S_O = \\emptyset$, then this is a degradation reaction.\n",
    "\n",
    "* A **SISO Reaction Network (SRN)** is $N = <S, S_I, S_O, R, k_I, k_O>$ where:\n",
    "    * $S$ is a set of chemical species\n",
    "    * $S_I, S_O \\in S$ are input and output species.\n",
    "    * $R$ is a set of reactions.\n",
    "    * $k_I S_I$ is the rate at which the input is consumed.\n",
    "    * $k_O S_O$ is the rate at which the output is degraded.\n",
    "\n",
    "* We indicate components of an object using a dot (\".\"), such as $N.S_I$\n"
   ]
  },
  {
   "cell_type": "markdown",
   "metadata": {},
   "source": [
    "## Network Operations"
   ]
  },
  {
   "cell_type": "markdown",
   "metadata": {
    "id": "Kvj8uwTMw-D-"
   },
   "source": [
    "These are operations applied to SISO reaction networks that produce a new SISO reaction network.\n",
    "In the sequel, $N^A, N^B$ are SRNs.\n",
    "\n",
    "**Sequence** is an asymmetric, binary operation.\n",
    "Let $N$,, $N^A, N^B$ be SISO reaction networks such that $N^A.S \\bigcap N^B.S = \\{N^A.S_O = S^B.S_I \\}$. \n",
    "Sequence applied these SRNs, denoted by $N = N^A \\circ  N^B$, is:\n",
    "* $S = N^A.S \\bigcup N^B.S$\n",
    "* $S_I =N^A.S_I$\n",
    "* $S_O = N^B.S_O$\n",
    "* $R = R^A \\bigcup R^B$\n",
    "* $k_I = N^A.k_I$\n",
    "* $k_O = N^B.k_O$\n",
    "\n",
    "**Forkjoin** is a symmetric, binary operation.\n",
    "Assume that $N^A.S \\bigcap N^B.S = \\{N^A.S_I\\} = \\{N_B.S_I \\}$.\n",
    "The forkjoin of these networks, denoted by $N = N^A + N^B$, is:\n",
    "* $S = N^A.S \\bigcup N^B.S \\bigcup \\{ O \\}$\n",
    "* $S_I = N^A.S_I = N^B.S_I$\n",
    "* $S_O$ is a new species defined as $\\{ N^A.S_O, N^B.S_O\\}$\n",
    "* $R = R^A \\bigcup R^B$\n",
    "* $k_I = N^A.k_I + N^B.k_I$\n",
    "* $k_O = N^A.k_O + N^B.k_O$\n",
    "\n",
    "**Amplify** is a unary operation.\n",
    "$amplify(N, K, k)$, $0 \\lt K, k$. $[S_O] = K[N.S_O]$.\n",
    "* $S = N.S$\n",
    "* $S_I = N.S_I$\n",
    "* $S_O = N.S_O$\n",
    "* $R = N.R \\bigcup \\{N.S_I \\xrightarrow{k} N.S_O,~ N.S_O \\xrightarrow{Kk} N.S_I \\}$\n",
    "* $k_I = N.k_I + \\frac{1}{k}$\n",
    "* $k_O = N.k_O + \\frac{K}{k}$\n",
    "\n",
    "**Loop** is a unary operation.\n",
    "$loop(N, S_I, S_O, k_1, k_2, k)$ is a unary operation, where: $k$ is real. The loop operation is similar to electrical circuits that use an operational amplifier.\n",
    "* $S = N.S \\bigcup \\{S_I, S_O \\}$\n",
    "* $R = R \\bigcup \\{S_I \\xrightarrow{k_1} N.S_I,~ N.S_O \\xrightarrow{k} N.S_I,~ N.S_O \\xrightarrow{k_2} S_O \\}$\n",
    "* $k_I = N.k_I$\n",
    "* $k_O = N.k_O + k$\n",
    "\n",
    "**Insulate** is a unary operation that separates a network from its environment.\n",
    "$insulate(N, S_I, S_O, k_1, k_2)$ is a unary operation.\n",
    "* $S = N.S \\bigcup \\{S_I, S_O \\}$\n",
    "* $R = R \\bigcup \\{S_I \\xrightarrow{k_1} N.S_I,~ N.S_O \\xrightarrow{k_2} S_O \\}$\n",
    "* $k_I = k_1$\n",
    "* $k_O = 0$\n",
    "\n",
    "Note that we can just insulate the input by setting $k_2 = 0$, and simularly, just insulate the output by $k_1 = 0$.\n",
    "\n",
    "**Instantiate** is a uniary operation.\n",
    "$instantiate(N)$ creates a network with the same reaction and kinetic constants but unique species."
   ]
  },
  {
   "cell_type": "markdown",
   "metadata": {},
   "source": [
    "**Loop**. Elements inside the outer box are in the network being looped. Note that $N.S_I, N.S_O$ are shared between the inside and outside of the network.\n",
    "\n",
    "<img src=\"images/loop.png\"\n",
    "     alt=\"Markdown Monster icon\" \n",
    "     width=\"800\" height=\"1000\"\n",
    "     style=\"float: left; margin-right: 10px;\" />"
   ]
  },
  {
   "cell_type": "markdown",
   "metadata": {},
   "source": [
    "## Networks"
   ]
  },
  {
   "cell_type": "markdown",
   "metadata": {
    "id": "MdNciGeeHKhb"
   },
   "source": [
    "### Two Species Reaction Network (2SRN)"
   ]
  },
  {
   "cell_type": "markdown",
   "metadata": {},
   "source": [
    "* $S = \\{S_I, S_O\\}$\n",
    "* $R = \\{ S_I \\xrightarrow{k_{IO}} S_O, S_O \\xrightarrow{k_O} ∅ \\}$\n",
    "* $k_I = k_{IO}\n",
    "* $k_O = k_{O}$\n",
    "\n",
    "Claim that the transfer function from $S_I$ to $S_O$ is $\\frac{k_I + k_{IO}}{s + k_O}$."
   ]
  },
  {
   "cell_type": "markdown",
   "metadata": {
    "id": "p1FE8voEL1Fj"
   },
   "source": [
    "### Sequence two 2SBNs"
   ]
  },
  {
   "cell_type": "markdown",
   "metadata": {},
   "source": [
    "Let $N^A$, $N^B$ be 2SBN with $S^A.S_O = S^B.S_I$.\n",
    "Then $N = N^A \\circ N^B$ has the following properties:\n",
    "* $S = \\{S^A_I, S^A_O = S^B_I, S^B_O \\}$\n",
    "* $R = R^A \\bigcup R^B$\n",
    "* $S_I = S^A_I$\n",
    "* $S_O = S^B_O$\n",
    "* $k_I = N^A.k_I$\n",
    "* $k_O = k^B_O$\n",
    "\n",
    "$N$\n",
    "has transfer function $H(s)$\n",
    "$$H(s) = H^A(s) H^B(s)\\frac{s + k^A_O}{s+ k^B_I + k^A_O}$$."
   ]
  },
  {
   "cell_type": "markdown",
   "metadata": {
    "id": "p1FE8voEL1Fj"
   },
   "source": [
    "### Forkjoin two 2SBNs"
   ]
  },
  {
   "cell_type": "markdown",
   "metadata": {},
   "source": [
    "Let $N^A$, $N^B$ be 2SBN with $S^A.S_I = S^B.S_I$.\n",
    "Then $N = N^A + N^B$ has the following properties:\n",
    "* $S = \\{S^A_O, S^A.S_I = S^B.S_I, S^B_O \\}$\n",
    "* $R = R^A \\bigcup R^B$\n",
    "* $S_I = S^A.S_I = S^B.S_I$\n",
    "* $S_O = \\{ S^A.S_O, S^B.S_O \\}$\n",
    "* $k_I = k^A_I + k^B_I$\n",
    "* $k_O = k^A_O + k^B_O$\n",
    "\n",
    "$N$\n",
    "has transfer function $H(s)$\n",
    "$$H(s) = H^A(s) + H^B(s)$$."
   ]
  },
  {
   "cell_type": "markdown",
   "metadata": {},
   "source": [
    "## Claims"
   ]
  },
  {
   "cell_type": "markdown",
   "metadata": {
    "id": "g80vLfq8kXIF"
   },
   "source": [
    "1. **Transfer function for sequence**. Let $N_1, N_2$ be reaction networks with transfer functions $H_1(s), H_2(s)$ that satisfy the conditions for concatenation. Let $N = N_1 \\circ N_2$, and let $H(s)$ be its transfer function. Claim that $H(s) = H_1 (s) H_2(s)\\frac{s + N^A.k_O}{s + N^A.k_O + N^B.k_I}$.\n",
    "1. **Transfer function for forkjoin**. Let $N_1, N_2$ be reaction networks with transfer functions $H_1(s), H_2(s)$ that satisfy the conditions for branching. Let $H(s)$ be the transfer function for $N_1 + N_2$. Claim that $H(s) = H_1 (s) + H_2(s)$.\n",
    "1. **Transfer function for scale**. Let $N_1$ be a reaction network with transfer function $H_1(s)$. Let $N  = K \\times N_1$, and $H(s)$ be its transfer function. Claim that $H(s) = kH_1(s)$.\n",
    "1. **Transfer function for loop**.\n",
    "  1. Given, $N$, its transfer function $G(s) = \\frac{N(s)}{D(s)}$. Find $S_O(s) = H(s) S_I(s)$ for $loop(N, k)$.\n",
    "\\begin{eqnarray}\n",
    "s S_O (s) & = & k_2 X_O (s)  \\\\\n",
    "s X_I (s) & = & k X_O(s) + k_1 S_I (s) - k^X_I X_I (s) \\\\\n",
    "X_I(s) & = & \\frac{k X_O(s) + k_1 S_I (s)}{s + k^X_I} \\\\\n",
    "s X_O (s) & = & -k_2 X_O (s) -k X_O (s) + s  G(s) X_I(s)\\\\\n",
    "  & = & -k_2 X_O (s) -k X_O (s) + s G(s) \\frac{k X_O(s) + k_1 S_I (s)}{s + k^X_I} \\\\\n",
    "X_O (s) & = & \\frac{s  k_1 G(s) S_I (s)/(s + k^X_I) }{s + k + k_2 - k s G(s)/(s + k^X_I)}  \\\\\n",
    "  & = & \\frac{ k_1 s G(s) S_I (s)}{(s +k^X_I)(s + k + k_2) - ks  G(s)}  \\\\\n",
    "S_O (s) & = & \\frac{k_2}{s} \\frac{ k_1 s G(s) S_I (s) }{(s +k^X_I)(s + k + k_2) - ks  G(s)}  \\\\\n",
    "  & = &  \\frac{  s  k_1 k_2 G(s) S_I (s) }{s(s +k^X_I)(s + k + k_2) - ks^2  G(s)}   \\\\\n",
    "  & = &  \\frac{ k_1 k_2  G(s) S_I (s) }{(s +k^X_I)(s + k + k_2) - ks  G(s)}   \\\\\n",
    "H (s) & = &   \\frac{ k_1  k_2 G(s) }{(s +k^X_I)(s + k + k_2) - ks  G(s)}  \\\\\n",
    "& = &   \\frac{ k_1 k_2 G(s) }{s^2 + (k_I^X + k + k_2 - kG(s)) s + k_I^X(k + k_2)}  \\\\\n",
    "\\end{eqnarray}\n",
    "\n",
    "Observe that:\n",
    "1. If $k, k_2 \\rightarrow 0$, then the denominator is 0, and the system \"blows up\".\n",
    "2. If $k \\rightarrow 0$, then we have a zero at 0 and a new pole.\n",
    "3. Clean up the symbols. Use $X_I, X_O$."
   ]
  },
  {
   "cell_type": "code",
   "execution_count": null,
   "metadata": {},
   "outputs": [],
   "source": []
  },
  {
   "cell_type": "markdown",
   "metadata": {},
   "source": [
    "## Notes\n",
    "1. Apply insulate consistently."
   ]
  },
  {
   "cell_type": "markdown",
   "metadata": {
    "id": "gsBx9gzLh_zp"
   },
   "source": [
    "# Numerical Studies"
   ]
  },
  {
   "cell_type": "code",
   "execution_count": null,
   "metadata": {
    "id": "JaNJkJ4WiIkH"
   },
   "outputs": [],
   "source": [
    "model1 = \"\"\"\n",
    "model *main()\n",
    "$S1 -> S2; k12*S1\n",
    "S2 ->; k2*S2\n",
    "S1 =5\n",
    "k12 = 2\n",
    "k2 = 1\n",
    "end\n",
    "\"\"\"\n",
    "\n",
    "model2 = \"\"\"\n",
    "model *main()\n",
    "$S1 -> S2; k12*S1\n",
    "S2 ->; k2*S2\n",
    "S2 -> S3; k23*S2\n",
    "S3 ->; k3*S3\n",
    "S1 =5\n",
    "k12 = 2\n",
    "k2 = 1\n",
    "k23 = 3\n",
    "k3 = 2\n",
    "end\n",
    "\"\"\"\n",
    "\n",
    "model3 = \"\"\"\n",
    "model *main()\n",
    "$S2 -> S3; k23*S2\n",
    "S3 ->; k3*S3\n",
    "S2 =5\n",
    "k23 = 3\n",
    "k3 = 2\n",
    "end\n",
    "\"\"\"\n",
    "\n",
    "model4 = \"\"\"\n",
    "model *main()\n",
    "$S1 -> S2A; k12A*S1\n",
    "S2A ->; k2A*S2A\n",
    "$S1 -> S2B; k12B*S1\n",
    "S2B ->; k2B*S2B\n",
    "S2 := S2A + S2B\n",
    "S1 =5\n",
    "k12A =3\n",
    "k12B = 2\n",
    "k2A = 2\n",
    "k2B = 2\n",
    "S2A = 0\n",
    "S2B = 0\n",
    "end\n",
    "\"\"\""
   ]
  },
  {
   "cell_type": "code",
   "execution_count": null,
   "metadata": {
    "colab": {
     "base_uri": "https://localhost:8080/",
     "height": 368
    },
    "id": "07bnulBGi_57",
    "outputId": "4ff6fd00-4f6a-4a6e-f3e2-8ccb0250ef0e"
   },
   "outputs": [],
   "source": [
    "plotStep(model=model2, S1=5, k12=1.5, k2=1)"
   ]
  },
  {
   "cell_type": "code",
   "execution_count": null,
   "metadata": {
    "colab": {
     "base_uri": "https://localhost:8080/",
     "height": 781
    },
    "id": "fErxAfZ97JJK",
    "outputId": "c1e5cf85-d744-47bc-ae77-f9dd0505d426"
   },
   "outputs": [],
   "source": [
    "k12 = 1.5\n",
    "k2 = 1\n",
    "S1 = 5\n",
    "tf = control.TransferFunction([k12], [1, k2])\n",
    "tv, yv = control.step_response(tf, np.linspace(0, 5, 50))\n",
    "plt.plot(tv, S1*yv)\n",
    "plotStep(model=model1, S1=S1, k12=k12, k2=k2)"
   ]
  },
  {
   "cell_type": "code",
   "execution_count": null,
   "metadata": {
    "colab": {
     "base_uri": "https://localhost:8080/",
     "height": 781
    },
    "id": "-DtT7W7Q7pvM",
    "outputId": "f60f50cf-2eec-4f33-9583-acd3c8164b93"
   },
   "outputs": [],
   "source": [
    "k23 = 1.5\n",
    "k3 = 1\n",
    "S2 = 1.75\n",
    "tf = control.TransferFunction([k23], [1, k3])\n",
    "tv, yv = control.step_response(tf, np.linspace(0, 5, 50))\n",
    "plt.plot(tv, S2*yv)\n",
    "plotStep(model=model3, S2=S2, k23=k23, k3=k3)"
   ]
  },
  {
   "cell_type": "markdown",
   "metadata": {},
   "source": [
    "## Sequence"
   ]
  },
  {
   "cell_type": "markdown",
   "metadata": {},
   "source": [
    "For all models, S1 is the input and S2 is the output."
   ]
  },
  {
   "cell_type": "code",
   "execution_count": null,
   "metadata": {},
   "outputs": [],
   "source": [
    "model_sequence = \"\"\"\n",
    "model *main()\n",
    "$S1 -> S2A; k12*S1\n",
    "S2A ->; k2*S2A\n",
    "S2A -> S2; k23*S2A\n",
    "S2 ->; k3*S2\n",
    "S1 =5\n",
    "k12 = 2\n",
    "k2 = 1\n",
    "k23 = 3\n",
    "k3 = 2\n",
    "end\n",
    "\"\"\"\n"
   ]
  },
  {
   "cell_type": "code",
   "execution_count": null,
   "metadata": {
    "colab": {
     "base_uri": "https://localhost:8080/",
     "height": 1000
    },
    "id": "YTE0aHv9jGEC",
    "outputId": "2a2f73c0-034c-4a53-bc45-49f94517bf02"
   },
   "outputs": [],
   "source": [
    "k12 = 1.5\n",
    "k2 = 1\n",
    "k23 = 3\n",
    "k3 = 2\n",
    "S1 = 5\n",
    "tf1 = control.TransferFunction([k12], [1, k2])\n",
    "tf2 = control.TransferFunction([k23], [1, k3])\n",
    "tf3 = control.TransferFunction([1, k2], [1, k2+k23 ])\n",
    "# tf3 adjusts for the consumption of S2 by the second network\n",
    "tf = tf1*tf2*tf3\n",
    "plotStep(model=model_sequence, tf=tf, S1=S1, k12=k12, k2=k2, k23=k23, k3=k3, selections=[\"S2\"], title=\"Sequence\", figsize=(3, 3))"
   ]
  },
  {
   "cell_type": "markdown",
   "metadata": {},
   "source": [
    "## Forkjoin"
   ]
  },
  {
   "cell_type": "code",
   "execution_count": null,
   "metadata": {},
   "outputs": [],
   "source": [
    "model_forkjoin = \"\"\"\n",
    "model *main()\n",
    "$S1 -> S2A; k12A*S1\n",
    "S2A ->; k2A*S2A\n",
    "$S1 -> S2B; k12B*S1\n",
    "S2B ->; k2B*S2B\n",
    "S2 := S2A + S2B\n",
    "S1 =5\n",
    "k12A =3\n",
    "k12B = 2\n",
    "k2A = 2\n",
    "k2B = 2\n",
    "S2A = 0\n",
    "S2B = 0\n",
    "end\n",
    "\"\"\""
   ]
  },
  {
   "cell_type": "code",
   "execution_count": null,
   "metadata": {},
   "outputs": [],
   "source": [
    "k12A = 5\n",
    "k2A = 1\n",
    "k12B = 3\n",
    "k2B = 2\n",
    "S1 = 5\n",
    "tf1 = control.TransferFunction([k12A], [1, k2A])\n",
    "tf2 = control.TransferFunction([k12B], [1, k2B])\n",
    "tf = tf1 + tf2\n",
    "plotStep(model=model_forkjoin, tf=tf, S1=S1, k12A=k12A, k2A=k2A, k12B=k12B, k2B=k2B, title=\"forkjoin\", figsize=(5,5), selections=[\"S2\"])"
   ]
  },
  {
   "cell_type": "markdown",
   "metadata": {},
   "source": [
    "## Loop"
   ]
  },
  {
   "cell_type": "markdown",
   "metadata": {},
   "source": [
    "\\begin{eqnarray}\n",
    "H (s) & = &   \\frac{ s k_1 G(s) }{k_2(k + k_2)s + k_2 (k + k_2) N.k_I - k G(s)}  \\\\\n",
    "\\end{eqnarray}\n"
   ]
  },
  {
   "cell_type": "code",
   "execution_count": null,
   "metadata": {},
   "outputs": [],
   "source": [
    "def loopTransferFunction(model_tf, k, k1, k2, N_kI):\n",
    "    \"\"\"\n",
    "    Constructs the transfer function from S_I to S_O for the loop operation.\n",
    "    \"\"\"\n",
    "    s_tf = control.TransferFunction([1, 0], [1])\n",
    "    denom_tf = control.TransferFunction([1, N_kI + k + k2, N_kI*(k + k2)], [1])\n",
    "    denom_tf = denom_tf - k*s_tf*model_tf\n",
    "    numr_tf = control.TransferFunction([k1*k2], [1])*model_tf\n",
    "    tf = numr_tf/denom_tf\n",
    "    return tf\n",
    "\n",
    "# Tests\n",
    "model_tf = control.TransferFunction([1], [1, 1])\n",
    "model_tf = control.TransferFunction([1], [1])\n",
    "k = 2; k1 = 2; k2 = 2; N_kI = 1;\n",
    "tf = loopTransferFunction(model_tf, k, k1, k2, N_kI) \n",
    "assert(isinstance(tf, control.TransferFunction))\n",
    "print(\"OK!\")"
   ]
  },
  {
   "cell_type": "code",
   "execution_count": null,
   "metadata": {},
   "outputs": [],
   "source": [
    "tf.poles()"
   ]
  },
  {
   "cell_type": "code",
   "execution_count": null,
   "metadata": {},
   "outputs": [],
   "source": [
    "# The looped network is S1A -> S2A, S2A ->;\n",
    "model_loop = \"\"\"\n",
    "model *main()\n",
    "// Boundary reactions\n",
    "$S1 -> S1A; k1*S1\n",
    "S2A -> S2; k2*S2A\n",
    "// Looped network\n",
    "S1A -> S2A; k12A*S1A\n",
    "S2A -> ; k2A*S2A\n",
    "// Added reactions\n",
    "S2A -> S1A; k*S2A\n",
    "S1 =5\n",
    "k1 = 1\n",
    "k2 = 2\n",
    "k12A = 3\n",
    "k2A = 2\n",
    "k = 3\n",
    "end\n",
    "\"\"\""
   ]
  },
  {
   "cell_type": "code",
   "execution_count": null,
   "metadata": {},
   "outputs": [],
   "source": [
    "k = 2; k1 = 2; k2 = 2; N_kI = 1;\n",
    "k12A = 3; k2A =1.8; S1=5\n",
    "inner_tf = control.TransferFunction([k12A], [1, k2A])\n",
    "tf = loopTransferFunction(inner_tf, k, k1, k2, N_kI)\n",
    "plotStep(model=model_loop, tf=tf, selections=[\"S2\"], figsize=(3, 3), k=2, k1=k1, k2=k2, S1=S1, k12A=k12A, k2A=k2A)"
   ]
  },
  {
   "cell_type": "code",
   "execution_count": null,
   "metadata": {},
   "outputs": [],
   "source": [
    "rr = te.loada(model_loop)\n",
    "rr.simulate()\n",
    "rr.plot()"
   ]
  },
  {
   "cell_type": "markdown",
   "metadata": {},
   "source": [
    "### Debug"
   ]
  },
  {
   "cell_type": "code",
   "execution_count": null,
   "metadata": {},
   "outputs": [],
   "source": [
    "# The looped network is S1A -> S2A, S2A ->;\n",
    "model_inner = \"\"\"\n",
    "model *main()\n",
    "// Looped network\n",
    "$S1 -> S2; k12*S1\n",
    "S2 -> ; k2*S2\n",
    "S1 =5\n",
    "k12 = 3\n",
    "k2 = 2\n",
    "S2 = 0\n",
    "end\n",
    "\"\"\""
   ]
  },
  {
   "cell_type": "code",
   "execution_count": null,
   "metadata": {},
   "outputs": [],
   "source": [
    "# Inner model only\n",
    "k12 = 3; k2 =1.8; S1=5\n",
    "inner_tf = control.TransferFunction([k12], [1, k2])\n",
    "plotStep(model=model_inner, tf=inner_tf, selections=[\"S2\"], figsize=(3, 3), S1=S1, k12=k12, k2=k2)"
   ]
  }
 ],
 "metadata": {
  "colab": {
   "provenance": [],
   "toc_visible": true
  },
  "kernelspec": {
   "display_name": "Python 3 (ipykernel)",
   "language": "python",
   "name": "python3"
  },
  "language_info": {
   "codemirror_mode": {
    "name": "ipython",
    "version": 3
   },
   "file_extension": ".py",
   "mimetype": "text/x-python",
   "name": "python",
   "nbconvert_exporter": "python",
   "pygments_lexer": "ipython3",
   "version": "3.9.6"
  }
 },
 "nbformat": 4,
 "nbformat_minor": 4
}
